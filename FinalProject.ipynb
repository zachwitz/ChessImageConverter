{
  "nbformat": 4,
  "nbformat_minor": 0,
  "metadata": {
    "colab": {
      "name": "FinalProject",
      "provenance": []
    },
    "kernelspec": {
      "name": "python3",
      "display_name": "Python 3"
    },
    "language_info": {
      "name": "python"
    },
    "accelerator": "GPU"
  },
  "cells": [
    {
      "cell_type": "markdown",
      "metadata": {
        "id": "_kyAOWz7Y4GC"
      },
      "source": [
        "**This is an input file path for the image to analyze. You can change this to run the image conversion and engine analysis on another image.**"
      ]
    },
    {
      "cell_type": "code",
      "metadata": {
        "id": "lqAPmNxXO2HS"
      },
      "source": [
        "INPUT_FILE = \"/content/test_renders/2b5-p4p1k-3q1Pp1-2p5-3p1p1P-1R3P2-PQ4P1-6K1 w - - 0 48.png\""
      ],
      "execution_count": null,
      "outputs": []
    },
    {
      "cell_type": "markdown",
      "metadata": {
        "id": "aMt9ZwRRkk9a"
      },
      "source": [
        "**The following test_renders folder contains images of chessboards. We created these images by using a blender model of a chess set and wrote an algorithm to generate valid chess positions for the modeled pieces.**"
      ]
    },
    {
      "cell_type": "code",
      "metadata": {
        "colab": {
          "base_uri": "https://localhost:8080/"
        },
        "id": "lMdTwDcynSIS",
        "outputId": "81ff4ed6-3d97-4969-bb09-bb1f97d0e32e"
      },
      "source": [
        "#blender-renders\n",
        "!gdown --id 1xt-ySFP6pAiOekM3yZpTRtg8rQOgJUe-\n",
        "!unzip -q test_renders.zip"
      ],
      "execution_count": null,
      "outputs": [
        {
          "output_type": "stream",
          "name": "stdout",
          "text": [
            "Downloading...\n",
            "From: https://drive.google.com/uc?id=1xt-ySFP6pAiOekM3yZpTRtg8rQOgJUe-\n",
            "To: /content/test_renders.zip\n",
            "100% 252M/252M [00:01<00:00, 146MB/s]\n"
          ]
        }
      ]
    },
    {
      "cell_type": "code",
      "metadata": {
        "id": "aZCBckzAWkJn"
      },
      "source": [
        "import glob\n",
        "import math\n",
        "import cv2\n",
        "import numpy as np\n",
        "import scipy.spatial as spatial\n",
        "import scipy.cluster as cluster\n",
        "from collections import defaultdict\n",
        "from statistics import mean\n",
        "from google.colab.patches import cv2_imshow\n",
        "from numpy.polynomial import polynomial as P\n",
        "import os\n",
        "from sklearn.metrics.pairwise import pairwise_distances\n",
        "from sklearn.cluster import AgglomerativeClustering, DBSCAN\n",
        "import typing\n",
        "import matplotlib.pyplot as plt\n",
        "import json"
      ],
      "execution_count": null,
      "outputs": []
    },
    {
      "cell_type": "markdown",
      "metadata": {
        "id": "ofyk3vYBZVZ9"
      },
      "source": [
        "**The following several cells define functions which use traditional CV techniques to slice up the chess board image into 64 individual squares. There are 2 different algorithms used, with one being used first and the other only attempted if the first failed.**"
      ]
    },
    {
      "cell_type": "code",
      "metadata": {
        "id": "g6pDQv33WqEE"
      },
      "source": [
        "def print_points(img, points, c=(255,0,0)):\n",
        "  for point_list in points:\n",
        "    for point in point_list:\n",
        "      p = (round(point[0]), round(point[1]))\n",
        "      img = cv2.circle(img, p, radius=5, color=c, thickness=-1)\n",
        "  cv2_imshow(img)\n",
        "\n",
        "def print_lines(img, lines, color=(0,0,255)):\n",
        "  for line in lines:\n",
        "    rho = line[0]\n",
        "    theta = line[1]\n",
        "    a = np.cos(theta)\n",
        "    b = np.sin(theta)\n",
        "    x0 = a*rho\n",
        "    y0 = b*rho\n",
        "    x1 = int(x0 + 1000*(-b))\n",
        "    y1 = int(y0 + 1000*(a))\n",
        "    x2 = int(x0 - 1000*(-b))\n",
        "    y2 = int(y0 - 1000*(a))\n",
        "    cv2.line(img,(x1,y1),(x2,y2),color,2)\n",
        "  cv2_imshow(img)\n",
        "\n",
        "# Read image and do lite image processing\n",
        "def read_img(file):\n",
        "    img = cv2.imread(str(file), 1)\n",
        "\n",
        "    W = 1000\n",
        "    height, width, depth = img.shape\n",
        "    imgScale = W / width\n",
        "    newX, newY = img.shape[1] * imgScale, img.shape[0] * imgScale\n",
        "    img = cv2.resize(img, (int(newX), int(newY)))\n",
        "    \n",
        "    blur = cv2.bilateralFilter(img,9,75,75)\n",
        "    gray = cv2.cvtColor(img, cv2.COLOR_BGR2GRAY)\n",
        "    (thresh, im_bw) = cv2.threshold(gray, 80, 255, cv2.THRESH_BINARY_INV)  #| cv2.THRESH_OTSU)\n",
        "    #im_bw = cv2.bilateralFilter(im_bw,9,75,75)\n",
        "    \n",
        "    return img, im_bw\n",
        "\n",
        "# Canny edge detection\n",
        "def canny_edge(img, sigma=0.33):\n",
        "    v = np.median(img)\n",
        "    lower = int(max(0, (1.0 - sigma) * v))\n",
        "    upper = int(min(255, (1.0 + sigma) * v))\n",
        "    edges = cv2.Canny(img, lower, upper)\n",
        "\n",
        "    return edges\n",
        "\n",
        "# Hough line detection\n",
        "def hough_line(edges, img, min_line_length=100, max_line_gap=30, threshold = 90):\n",
        "    lines = cv2.HoughLines(edges, 1.5, np.pi / 110, threshold, min_line_length, max_line_gap)\n",
        "    \n",
        "    lines = np.reshape(lines, (-1, 2))\n",
        "    return lines\n",
        "\n",
        "def merge_lines(lines, img, rho_thresh=14):\n",
        "    strong_lines = np.zeros_like(lines)\n",
        "    n2 = 0\n",
        "\n",
        "    for n1 in range (len(lines)):\n",
        "      line = lines[n1]\n",
        "\n",
        "      if line[0] < 0:\n",
        "        line[0] *= -1\n",
        "        line[1] -= np.pi\n",
        "\n",
        "      if not ((line[1] >= (4/9*np.pi) and line[1] <= (5/9*np.pi)) or (line[1] >= (-np.pi/9) and line[1] <= (np.pi/9))):\n",
        "        continue\n",
        "\n",
        "      rho = line[0]\n",
        "      theta = line[1]\n",
        "      if n1 == 0:\n",
        "        strong_lines[n2] = lines[n1]\n",
        "        n2 = n2 + 1\n",
        "        continue\n",
        "\n",
        "      closeness_rho = np.isclose(rho,strong_lines[0:n2,0],atol = rho_thresh)\n",
        "      similar_rho = np.any(closeness_rho)\n",
        "\n",
        "      if not similar_rho: \n",
        "        strong_lines[n2] = line\n",
        "        n2 += 1\n",
        "\n",
        "    strong_lines = strong_lines[0:n2]\n",
        "    \n",
        "    return strong_lines\n",
        "\n",
        "\n",
        "# Separate line into horizontal and vertical\n",
        "def h_v_lines(lines):\n",
        "    h_lines, v_lines = [], []\n",
        "    for rho, theta in lines:\n",
        "        if theta < np.pi / 4 or theta > np.pi - np.pi / 4:\n",
        "            v_lines.append([rho, theta])\n",
        "        else:\n",
        "            h_lines.append([rho, theta])\n",
        "    return h_lines, v_lines\n",
        "\n",
        "# Find the intersections of the lines\n",
        "def line_intersections(h_lines, v_lines):\n",
        "    points = []\n",
        "    for r_h, t_h in h_lines:\n",
        "        for r_v, t_v in v_lines:\n",
        "            a = np.array([[np.cos(t_h), np.sin(t_h)], [np.cos(t_v), np.sin(t_v)]])\n",
        "            b = np.array([r_h, r_v])\n",
        "            inter_point = np.linalg.solve(a, b)\n",
        "            points.append(inter_point)\n",
        "    return np.array(points)\n",
        "\n",
        "\n",
        "# Hierarchical cluster (by euclidean distance) intersection points\n",
        "def cluster_points(points, thresh=15):\n",
        "    dists = spatial.distance.pdist(points)\n",
        "    single_linkage = cluster.hierarchy.single(dists)\n",
        "    flat_clusters = cluster.hierarchy.fcluster(single_linkage, thresh, 'distance')\n",
        "    cluster_dict = defaultdict(list)\n",
        "    for i in range(len(flat_clusters)):\n",
        "        cluster_dict[flat_clusters[i]].append(points[i])\n",
        "    cluster_values = cluster_dict.values()\n",
        "    clusters = map(lambda arr: (np.mean(np.array(arr)[:, 0]), np.mean(np.array(arr)[:, 1])), cluster_values)\n",
        "    return sorted(list(clusters), key=lambda k: [k[1], k[0]])\n",
        "\n",
        "\n",
        "# Average the y value in each row and augment original point\n",
        "def augment_points(points, img):\n",
        "    discard = False\n",
        "    points_shape = list(np.shape(points))\n",
        "    augmented_points = []\n",
        "\n",
        "    if int(points_shape[0] / 11) != 11: discard = True\n",
        "\n",
        "    for row in range(int(points_shape[0] / 11)):\n",
        "        start = row * 11\n",
        "        end = (row * 11) + 10\n",
        "        rw_points = points[start:end + 1]\n",
        "        rw_y = []\n",
        "        rw_x = []\n",
        "        for point in rw_points:\n",
        "            x, y = point\n",
        "            rw_y.append(y)\n",
        "            rw_x.append(x)\n",
        "        y_mean = mean(rw_y)\n",
        "        if len(rw_x) != 11: discard = True\n",
        "        for i in range(len(rw_x)):\n",
        "            point = (rw_x[i], y_mean)\n",
        "            augmented_points.append(point)\n",
        "    augmented_points = sorted(augmented_points, key=lambda k: [k[1], k[0]])\n",
        "    return augmented_points, discard\n",
        "\n",
        "def get_coord_distance(p1, p2):\n",
        "    coordinate_distance = math.sqrt( ((int(p1[0])-int(p2[0]))**2)+((int(p1[1])-int(p2[1]))**2) )\n",
        "    return coordinate_distance\n",
        "\n",
        "def write_crop_images_predict(img, points, avg_base_len):\n",
        "    num_list = []\n",
        "    shape = list(np.shape(points))\n",
        "    start_point = shape[0] - 14\n",
        "\n",
        "    if int(shape[0] / 11) >= 8:\n",
        "        range_num = 8\n",
        "    else:\n",
        "        range_num = int((shape[0] / 11) - 2)\n",
        "\n",
        "    for row in range(range_num):\n",
        "        start = start_point - (row * 11)\n",
        "        end = (start_point - 8) - (row * 11)\n",
        "        num_list.append(range(start, end, -1))  \n",
        "\n",
        "    for i in range(len(num_list)):\n",
        "        row = num_list[i]\n",
        "        for j in range(len(row)):\n",
        "            s = row[j]\n",
        "            base_len = get_coord_distance(points[s], points[s + 1])\n",
        "\n",
        "\n",
        "    board = [None] * 64\n",
        "    pieceidx = 0\n",
        "    for i in range(len(num_list)):\n",
        "        row = num_list[i]\n",
        "        for j in range(len(row)):\n",
        "            s = row[j]\n",
        "            \n",
        "            x_dist = avg_base_len\n",
        "            \n",
        "            bot_left = points[s]\n",
        "            start_x, start_y = int(bot_left[0]), int(bot_left[1] - (x_dist * 2))\n",
        "            end_x, end_y = int(start_x + x_dist), int(start_y + 2*x_dist)\n",
        "            if start_y < 0:\n",
        "                start_y = 0\n",
        "            if start_x < 0:\n",
        "                start_x = 0\n",
        "\n",
        "            cropped = img[start_y: end_y, start_x: end_x]\n",
        "            dims = (46, 92)\n",
        "            cropped = cv2.resize(cropped, dims)\n",
        "            cropped = cv2.cvtColor(cropped, cv2.COLOR_BGR2GRAY)\n",
        "            board[pieceidx] = cropped\n",
        "            pieceidx += 1\n",
        "\n",
        "    return board\n",
        "\n",
        "def find_base_len(img, points):\n",
        "    num_list = []\n",
        "    shape = list(np.shape(points))\n",
        "    start_point = shape[0] - 14\n",
        "\n",
        "    if int(shape[0] / 11) >= 8:\n",
        "        range_num = 8\n",
        "    else:\n",
        "        range_num = int((shape[0] / 11) - 2)\n",
        "\n",
        "    for row in range(range_num):\n",
        "        start = start_point - (row * 11)\n",
        "        end = (start_point - 8) - (row * 11)\n",
        "        num_list.append(range(start, end, -1))  \n",
        "\n",
        "\n",
        "    avg_base_len = 0\n",
        "\n",
        "    for i in range(len(num_list)):\n",
        "        row = num_list[i]\n",
        "        for j in range(len(row)):\n",
        "            s = row[j]\n",
        "            bot_left, bot_right = points[s], points[s + 1]\n",
        "            start_x, end_x = int(bot_left[0]), int(bot_right[0])\n",
        "            \n",
        "            base_len = abs(start_x - end_x)\n",
        "            avg_base_len += base_len\n",
        "\n",
        "\n",
        "    avg_base_len = avg_base_len / 64\n",
        "\n",
        "    return round(avg_base_len)\n",
        "\n",
        "def resize_image(img: np.ndarray) -> typing.Tuple[np.ndarray, float]:\n",
        "    \"\"\"Resize an image for use in the corner detection pipeline, maintaining the aspect ratio.\n",
        "    Args:\n",
        "        cfg (CN): the configuration object\n",
        "        img (np.ndarray): the input image\n",
        "    Returns:\n",
        "        typing.Tuple[np.ndarray, float]: the resized image along with the scale of this new image\n",
        "    \"\"\"\n",
        "    RESIZE_IMAGE_WIDTH = 1200\n",
        "    h, w, _ = img.shape\n",
        "    if w == RESIZE_IMAGE_WIDTH:\n",
        "        return img, 1\n",
        "    scale = RESIZE_IMAGE_WIDTH / w\n",
        "    dims = (RESIZE_IMAGE_WIDTH, int(h * scale))\n",
        "\n",
        "    img = cv2.resize(img, dims)\n",
        "    return img, scale\n",
        "\n",
        "\n",
        "def _detect_edges(gray: np.ndarray, LOW_THRESHOLD = 90, HIGH_THRESHOLD = 400, APERTURE = 3) -> np.ndarray:\n",
        "    if gray.dtype != np.uint8:\n",
        "        gray = gray / gray.max() * 255\n",
        "        gray = gray.astype(np.uint8)\n",
        "    edges = cv2.Canny(gray,\n",
        "                      LOW_THRESHOLD,\n",
        "                      HIGH_THRESHOLD,\n",
        "                      APERTURE)\n",
        "    return edges\n",
        "\n",
        "\n",
        "def _detect_lines(edges: np.ndarray) -> np.ndarray:\n",
        "    THRESHOLD = 150\n",
        "    DIAGONAL_LINE_ELIMINATION = True\n",
        "    DIAGONAL_LINE_ELIMINATION_THRESHOLD_DEGREES = 30\n",
        "    # array of [rho, theta]\n",
        "    lines = cv2.HoughLines(edges, 1, np.pi/360, THRESHOLD)\n",
        "    lines = lines.squeeze(axis=-2)\n",
        "    lines = _fix_negative_rho_in_hesse_normal_form(lines)\n",
        "\n",
        "    if DIAGONAL_LINE_ELIMINATION:\n",
        "        threshold = np.deg2rad(\n",
        "            DIAGONAL_LINE_ELIMINATION_THRESHOLD_DEGREES)\n",
        "        vmask = np.abs(lines[:, 1]) < threshold\n",
        "        hmask = np.abs(lines[:, 1] - np.pi / 2) < threshold\n",
        "        mask = vmask | hmask\n",
        "        lines = lines[mask]\n",
        "    return lines\n",
        "\n",
        "\n",
        "def _fix_negative_rho_in_hesse_normal_form(lines: np.ndarray) -> np.ndarray:\n",
        "    lines = lines.copy()\n",
        "    neg_rho_mask = lines[..., 0] < 0\n",
        "    lines[neg_rho_mask, 0] = - \\\n",
        "        lines[neg_rho_mask, 0]\n",
        "    lines[neg_rho_mask, 1] =  \\\n",
        "        lines[neg_rho_mask, 1] - np.pi\n",
        "    return lines\n",
        "\n",
        "\n",
        "def _absolute_angle_difference(x, y):\n",
        "    diff = np.mod(np.abs(x - y), 2*np.pi)\n",
        "    return np.min(np.stack([diff, np.pi - diff], axis=-1), axis=-1)\n",
        "\n",
        "\n",
        "def _sort_lines(lines: np.ndarray) -> np.ndarray:\n",
        "    if lines.ndim == 0 or lines.shape[-2] == 0:\n",
        "        return lines\n",
        "    rhos = lines[..., 0]\n",
        "    sorted_indices = np.argsort(rhos)\n",
        "    return lines[sorted_indices]\n",
        "\n",
        "\n",
        "def _cluster_horizontal_and_vertical_lines(lines: np.ndarray):\n",
        "    lines = _sort_lines(lines)\n",
        "    thetas = lines[..., 1].reshape(-1, 1)\n",
        "    distance_matrix = pairwise_distances(\n",
        "        thetas, thetas, metric=_absolute_angle_difference)\n",
        "    agg = AgglomerativeClustering(n_clusters=2, affinity=\"precomputed\",\n",
        "                                  linkage=\"average\")\n",
        "    clusters = agg.fit_predict(distance_matrix)\n",
        "\n",
        "    angle_with_y_axis = _absolute_angle_difference(thetas, 0.)\n",
        "    if angle_with_y_axis[clusters == 0].mean() > angle_with_y_axis[clusters == 1].mean():\n",
        "        hcluster, vcluster = 0, 1\n",
        "    else:\n",
        "        hcluster, vcluster = 1, 0\n",
        "\n",
        "    horizontal_lines = lines[clusters == hcluster]\n",
        "    vertical_lines = lines[clusters == vcluster]\n",
        "\n",
        "    return horizontal_lines, vertical_lines\n",
        "\n",
        "\n",
        "def _eliminate_similar_lines(lines: np.ndarray, perpendicular_lines: np.ndarray) -> np.ndarray:\n",
        "    perp_rho, perp_theta = perpendicular_lines.mean(axis=0)\n",
        "    rho, theta = np.moveaxis(lines, -1, 0)\n",
        "    intersection_points = get_intersection_point(\n",
        "        rho, theta, perp_rho, perp_theta)\n",
        "    intersection_points = np.stack(intersection_points, axis=-1)\n",
        "\n",
        "    clustering = DBSCAN(eps=12, min_samples=1).fit(intersection_points)\n",
        "\n",
        "    filtered_lines = []\n",
        "    for c in range(clustering.labels_.max() + 1):\n",
        "        lines_in_cluster = lines[clustering.labels_ == c]\n",
        "        rho = lines_in_cluster[..., 0]\n",
        "        median = np.argsort(rho)[len(rho)//2]\n",
        "        filtered_lines.append(lines_in_cluster[median])\n",
        "    return np.stack(filtered_lines)\n",
        "\n",
        "\n",
        "def get_intersection_point(rho1: np.ndarray, theta1: np.ndarray, rho2: np.ndarray, theta2: np.ndarray) -> typing.Tuple[np.ndarray, np.ndarray]:\n",
        "    \"\"\"Obtain the intersection point of two lines in Hough space.\n",
        "    This method can be batched\n",
        "    Args:\n",
        "        rho1 (np.ndarray): first line's rho\n",
        "        theta1 (np.ndarray): first line's theta\n",
        "        rho2 (np.ndarray): second lines's rho\n",
        "        theta2 (np.ndarray): second line's theta\n",
        "    Returns:\n",
        "        typing.Tuple[np.ndarray, np.ndarray]: the x and y coordinates of the intersection point(s)\n",
        "    \"\"\"\n",
        "    # rho1 = x cos(theta1) + y sin(theta1)\n",
        "    # rho2 = x cos(theta2) + y sin(theta2)\n",
        "    cos_t1 = np.cos(theta1)\n",
        "    cos_t2 = np.cos(theta2)\n",
        "    sin_t1 = np.sin(theta1)\n",
        "    sin_t2 = np.sin(theta2)\n",
        "    x = (sin_t1 * rho2 - sin_t2 * rho1) / (cos_t2 * sin_t1 - cos_t1 * sin_t2)\n",
        "    y = (cos_t1 * rho2 - cos_t2 * rho1) / (sin_t2 * cos_t1 - sin_t1 * cos_t2)\n",
        "    return x, y\n",
        "\n",
        "\n",
        "def _choose_from_range(upper_bound: int, n: int = 2):\n",
        "    return np.sort(np.random.choice(np.arange(upper_bound), (n,), replace=False), axis=-1)\n",
        "\n",
        "\n",
        "def _get_intersection_points(horizontal_lines: np.ndarray, vertical_lines: np.ndarray) -> np.ndarray:\n",
        "    rho1, theta1 = np.moveaxis(horizontal_lines, -1, 0)\n",
        "    rho2, theta2 = np.moveaxis(vertical_lines, -1, 0)\n",
        "\n",
        "    rho1, rho2 = np.meshgrid(rho1, rho2, indexing=\"ij\")\n",
        "    theta1, theta2 = np.meshgrid(theta1, theta2, indexing=\"ij\")\n",
        "    intersection_points = get_intersection_point(rho1, theta1, rho2, theta2)\n",
        "    intersection_points = np.stack(intersection_points, axis=-1)\n",
        "    return intersection_points\n",
        "\n",
        "\n",
        "def compute_transformation_matrix(src_points: np.ndarray, dst_points: np.ndarray) -> np.ndarray:\n",
        "    \"\"\"Compute the transformation matrix based on source and destination points.\n",
        "    Args:\n",
        "        src_points (np.ndarray): the source points (shape: [..., 2])\n",
        "        dst_points (np.ndarray): the source points (shape: [..., 2])\n",
        "    Returns:\n",
        "        np.ndarray: the transformation matrix\n",
        "    \"\"\"\n",
        "    transformation_matrix, _ = cv2.findHomography(src_points.reshape(-1, 2),\n",
        "                                                  dst_points.reshape(-1, 2))\n",
        "    return transformation_matrix\n",
        "\n",
        "\n",
        "def _compute_homography(intersection_points: np.ndarray, row1: int, row2: int, col1: int, col2: int):\n",
        "    p1 = intersection_points[row1, col1]  # top left\n",
        "    p2 = intersection_points[row1, col2]  # top right\n",
        "    p3 = intersection_points[row2, col2]  # bottom right\n",
        "    p4 = intersection_points[row2, col1]  # bottom left\n",
        "\n",
        "    src_points = np.stack([p1, p2, p3, p4])\n",
        "    dst_points = np.array([[0, 0],  # top left\n",
        "                           [1, 0],  # top right\n",
        "                           [1, 1],  # bottom right\n",
        "                           [0, 1]])  # bottom left\n",
        "    return compute_transformation_matrix(src_points, dst_points)\n",
        "\n",
        "\n",
        "def _warp_points(transformation_matrix: np.ndarray, points: np.ndarray) -> np.ndarray:\n",
        "    points = to_homogenous_coordinates(points)\n",
        "    warped_points = points @ transformation_matrix.T\n",
        "    return from_homogenous_coordinates(warped_points)\n",
        "\n",
        "\n",
        "def _find_best_scale(values: np.ndarray, scales: np.ndarray = np.arange(1, 9)):\n",
        "    OFFSET_TOLERANCE = .15\n",
        "    BEST_SOLUTION_TOLERANCE = .1\n",
        "\n",
        "    scales = np.sort(scales)\n",
        "    scaled_values = np.expand_dims(values, axis=-1) * scales\n",
        "    diff = np.abs(np.rint(scaled_values) - scaled_values)\n",
        "\n",
        "    inlier_mask = diff < OFFSET_TOLERANCE / scales\n",
        "    num_inliers = np.sum(inlier_mask, axis=tuple(range(inlier_mask.ndim - 1)))\n",
        "\n",
        "    best_num_inliers = np.max(num_inliers)\n",
        "\n",
        "    # We will choose a slightly worse scale if it is lower\n",
        "    index = np.argmax(num_inliers > (\n",
        "        1 - BEST_SOLUTION_TOLERANCE) * best_num_inliers)\n",
        "    return scales[index], inlier_mask[..., index]\n",
        "\n",
        "\n",
        "def _discard_outliers(warped_points: np.ndarray, intersection_points: np.ndarray) -> typing.Tuple[np.ndarray, np.ndarray, float, float]:\n",
        "    MAX_OUTLIER_INTERSECTION_POINT_RATIO_PER_LINE = .7\n",
        "\n",
        "    horizontal_scale, horizontal_mask = _find_best_scale(\n",
        "        warped_points[..., 0])\n",
        "    vertical_scale, vertical_mask = _find_best_scale(\n",
        "        warped_points[..., 1])\n",
        "    mask = horizontal_mask & vertical_mask\n",
        "\n",
        "    # Keep rows/cols that have more than 50% inliers\n",
        "    num_rows_to_consider = np.any(mask, axis=-1).sum()\n",
        "    num_cols_to_consider = np.any(mask, axis=-2).sum()\n",
        "    rows_to_keep = mask.sum(axis=-1) / num_rows_to_consider > \\\n",
        "        MAX_OUTLIER_INTERSECTION_POINT_RATIO_PER_LINE\n",
        "    cols_to_keep = mask.sum(axis=-2) / num_cols_to_consider > \\\n",
        "        MAX_OUTLIER_INTERSECTION_POINT_RATIO_PER_LINE\n",
        "\n",
        "    warped_points = warped_points[rows_to_keep][:, cols_to_keep]\n",
        "    intersection_points = intersection_points[rows_to_keep][:, cols_to_keep]\n",
        "    return warped_points, intersection_points, horizontal_scale, vertical_scale\n",
        "\n",
        "\n",
        "def _quantize_points(warped_scaled_points: np.ndarray, intersection_points: np.ndarray) -> typing.Tuple[tuple, np.ndarray, np.ndarray, np.ndarray, np.ndarray]:\n",
        "    WARPED_SQUARE_SIZE = [50, 50]\n",
        "    NUM_SURROUNDING_SQUARES_IN_WARPED_IMG = 5\n",
        "    \n",
        "    mean_col_xs = warped_scaled_points[..., 0].mean(axis=0)\n",
        "    mean_row_ys = warped_scaled_points[..., 1].mean(axis=1)\n",
        "\n",
        "    col_xs = np.rint(mean_col_xs).astype(np.int)\n",
        "    row_ys = np.rint(mean_row_ys).astype(np.int)\n",
        "\n",
        "    # Remove duplicates\n",
        "    col_xs, col_indices = np.unique(col_xs, return_index=True)\n",
        "    row_ys, row_indices = np.unique(row_ys, return_index=True)\n",
        "    intersection_points = intersection_points[row_indices][:, col_indices]\n",
        "\n",
        "    # Compute mins and maxs in warped space\n",
        "    xmin = col_xs.min()\n",
        "    xmax = col_xs.max()\n",
        "    ymin = row_ys.min()\n",
        "    ymax = row_ys.max()\n",
        "\n",
        "    # Ensure we a have a maximum of 9 rows/cols\n",
        "    while xmax - xmin > 9:\n",
        "        xmax -= 1\n",
        "        xmin += 1\n",
        "    while ymax - ymin > 9:\n",
        "        ymax -= 1\n",
        "        ymin += 1\n",
        "    col_mask = (col_xs >= xmin) & (col_xs <= xmax)\n",
        "    row_mask = (row_ys >= xmin) & (row_ys <= xmax)\n",
        "\n",
        "    # Discard\n",
        "    col_xs = col_xs[col_mask]\n",
        "    row_ys = row_ys[row_mask]\n",
        "    intersection_points = intersection_points[row_mask][:, col_mask]\n",
        "\n",
        "    # Create quantized points array\n",
        "    quantized_points = np.stack(np.meshgrid(col_xs, row_ys), axis=-1)\n",
        "\n",
        "    # Transform in warped space\n",
        "    translation = -np.array([xmin, ymin]) + \\\n",
        "        NUM_SURROUNDING_SQUARES_IN_WARPED_IMG\n",
        "    scale = np.array(WARPED_SQUARE_SIZE)\n",
        "\n",
        "    scaled_quantized_points = (quantized_points + translation) * scale\n",
        "    xmin, ymin = np.array((xmin, ymin)) + translation\n",
        "    xmax, ymax = np.array((xmax, ymax)) + translation\n",
        "    warped_img_size = (np.array((xmax, ymax)) +\n",
        "                       NUM_SURROUNDING_SQUARES_IN_WARPED_IMG) * scale\n",
        "\n",
        "    return (xmin, xmax, ymin, ymax), scale, scaled_quantized_points, intersection_points, warped_img_size\n",
        "\n",
        "\n",
        "def _compute_vertical_borders(warped: np.ndarray, mask: np.ndarray, scale: np.ndarray, xmin: int, xmax: int) -> typing.Tuple[int, int]:\n",
        "    SOBEL_KERNEL_SIZE = 3\n",
        "    LINE_WIDTH = 4\n",
        "\n",
        "    APERTURE = 3\n",
        "    HIGH_THRESHOLD = 200\n",
        "    LOW_THRESHOLD = 100\n",
        "\n",
        "    G_x = np.abs(cv2.Sobel(warped, cv2.CV_64F, 1, 0,\n",
        "                           ksize=SOBEL_KERNEL_SIZE))\n",
        "    G_x[~mask] = 0\n",
        "    G_x = _detect_edges(G_x, 100, 200, 3)\n",
        "    G_x[~mask] = 0\n",
        "\n",
        "    def get_nonmax_supressed(x):\n",
        "        x = (x * scale[0]).astype(np.int)\n",
        "        thresh = LINE_WIDTH // 2\n",
        "        return G_x[:, x-thresh:x+thresh+1].max(axis=1)\n",
        "\n",
        "    while xmax - xmin < 8:\n",
        "        top = get_nonmax_supressed(xmax + 1)\n",
        "        bottom = get_nonmax_supressed(xmin - 1)\n",
        "\n",
        "        if top.sum() > bottom.sum():\n",
        "            xmax += 1\n",
        "        else:\n",
        "            xmin -= 1\n",
        "\n",
        "    return xmin, xmax\n",
        "\n",
        "\n",
        "def _compute_horizontal_borders(warped: np.ndarray, mask: np.ndarray, scale: np.ndarray, ymin: int, ymax: int) -> typing.Tuple[int, int]:\n",
        "    SOBEL_KERNEL_SIZE = 3\n",
        "    LINE_WIDTH = 4\n",
        "\n",
        "    APERTURE = 3\n",
        "    HIGH_THRESHOLD = 300\n",
        "    LOW_THRESHOLD = 120\n",
        "    \n",
        "    G_y = np.abs(cv2.Sobel(warped, cv2.CV_64F, 0, 1,\n",
        "                           ksize=SOBEL_KERNEL_SIZE))\n",
        "    G_y[~mask] = 0\n",
        "    G_y = _detect_edges(G_y, 120, 300, 3)\n",
        "    G_y[~mask] = 0\n",
        "\n",
        "    def get_nonmax_supressed(y):\n",
        "        y = (y * scale[1]).astype(np.int)\n",
        "        thresh = LINE_WIDTH // 2\n",
        "        return G_y[y-thresh:y+thresh+1].max(axis=0)\n",
        "\n",
        "    while ymax - ymin < 8:\n",
        "        top = get_nonmax_supressed(ymax + 1)\n",
        "        bottom = get_nonmax_supressed(ymin - 1)\n",
        "\n",
        "        if top.sum() > bottom.sum():\n",
        "            ymax += 1\n",
        "        else:\n",
        "            ymin -= 1\n",
        "    return ymin, ymax\n",
        "\n",
        "def sort_corner_points(points: np.ndarray) -> np.ndarray:\n",
        "    \"\"\"Permute the board corner coordinates to the order [top left, top right, bottom right, bottom left].\n",
        "    Args:\n",
        "        points (np.ndarray): the four corner coordinates\n",
        "    Returns:\n",
        "        np.ndarray: the permuted array\n",
        "    \"\"\"\n",
        "\n",
        "    # First, order by y-coordinate\n",
        "    points = points[points[:, 1].argsort()]\n",
        "    # Sort top x-coordinates\n",
        "    points[:2] = points[:2][points[:2, 0].argsort()]\n",
        "    # Sort bottom x-coordinates (reversed)\n",
        "    points[2:] = points[2:][points[2:, 0].argsort()[::-1]]\n",
        "\n",
        "    return points\n",
        "\n",
        "def to_homogenous_coordinates(coordinates: np.ndarray) -> np.ndarray:\n",
        "    \"\"\"Convert Cartesian to homogenous coordinates.\n",
        "    Args:\n",
        "        coordinates (np.ndarray): the Cartesian coordinates (shape: [..., 2])\n",
        "    Returns:\n",
        "        np.ndarray: the homogenous coordinates (shape: [..., 3])\n",
        "    \"\"\"\n",
        "    return np.concatenate([coordinates,\n",
        "                           np.ones((*coordinates.shape[:-1], 1))], axis=-1)\n",
        "\n",
        "\n",
        "def from_homogenous_coordinates(coordinates: np.ndarray) -> np.ndarray:\n",
        "    \"\"\"Convert homogenous to Cartesian coordinates.\n",
        "    Args:\n",
        "        coordinates (np.ndarray): the homogenous coordinates (shape: [..., 3])\n",
        "    Returns:\n",
        "        np.ndarray: the Cartesian coordinates (shape: [..., 2])\n",
        "    \"\"\"\n",
        "    return coordinates[..., :2] / coordinates[..., 2, np.newaxis]\n",
        "\n",
        "def interpolate(corners):    \n",
        "    xmin = corners[0][0]\n",
        "    ymin = corners[0][1]\n",
        "    xmax = corners[2][0]\n",
        "    ymax = corners[2][1]\n",
        "\n",
        "    x_dist = abs(xmax - xmin) / 8\n",
        "    y_dist = abs(ymax - ymin) / 8\n",
        "\n",
        "    points = []\n",
        "\n",
        "    xmin = xmin - x_dist\n",
        "    ymin = ymin - y_dist\n",
        "\n",
        "    for i in range(11):\n",
        "        for j in range(11):\n",
        "            x = xmin + i * x_dist\n",
        "            y = ymin + j * y_dist\n",
        "            points.append([x,y])    \n",
        "    \n",
        "    return np.array(points)"
      ],
      "execution_count": null,
      "outputs": []
    },
    {
      "cell_type": "code",
      "metadata": {
        "id": "eqnHopfE5oWF"
      },
      "source": [
        "def single_img_2(file_name):\n",
        "    img = cv2.imread(str(file_name),1)\n",
        "    img, img_scale = resize_image(img)\n",
        "\n",
        "    gray = cv2.cvtColor(img, cv2.COLOR_BGR2GRAY)\n",
        "    edges = _detect_edges(gray)\n",
        "\n",
        "    try:\n",
        "        lines = _detect_lines(edges)\n",
        "    except AttributeError:\n",
        "        return 'bad'\n",
        "\n",
        "    if lines.shape[0] > 400:\n",
        "        #raise ChessboardNotLocatedException(\"too many lines in the image\")\n",
        "        return 'bad'\n",
        "\n",
        "    try:\n",
        "        all_horizontal_lines, all_vertical_lines = _cluster_horizontal_and_vertical_lines(\n",
        "          lines)\n",
        "    except ValueError:\n",
        "        return 'bad'\n",
        "\n",
        "    horizontal_lines = _eliminate_similar_lines(\n",
        "        all_horizontal_lines, all_vertical_lines)\n",
        "    vertical_lines = _eliminate_similar_lines(\n",
        "        all_vertical_lines, all_horizontal_lines)\n",
        "\n",
        "    all_intersection_points = _get_intersection_points(horizontal_lines,\n",
        "                                                      vertical_lines)\n",
        "\n",
        "    best_num_inliers = 0\n",
        "    best_configuration = None\n",
        "    iterations = 0\n",
        "\n",
        "    while iterations < 200 or best_num_inliers < 30:\n",
        "        try:\n",
        "            row1, row2 = _choose_from_range(len(horizontal_lines))\n",
        "        except ValueError:\n",
        "            return 'bad'\n",
        "        try:\n",
        "            col1, col2 = _choose_from_range(len(vertical_lines))\n",
        "        except ValueError:\n",
        "            return 'bad'  \n",
        "            \n",
        "        transformation_matrix = _compute_homography(all_intersection_points,\n",
        "                                                        row1, row2, col1, col2)\n",
        "        warped_points = _warp_points(\n",
        "            transformation_matrix, all_intersection_points)\n",
        "        warped_points, intersection_points, horizontal_scale, vertical_scale = _discard_outliers(\n",
        "            warped_points, all_intersection_points)\n",
        "        num_inliers = np.prod(warped_points.shape[:-1])\n",
        "        if num_inliers > best_num_inliers:\n",
        "            warped_points *= np.array((horizontal_scale, vertical_scale))\n",
        "\n",
        "            # Quantize and reject deuplicates\n",
        "            (xmin, xmax, ymin, ymax), scale, quantized_points, intersection_points, warped_img_size = configuration = _quantize_points(\n",
        "                warped_points, intersection_points)\n",
        "\n",
        "            # Calculate remaining number of inliers\n",
        "            num_inliers = np.prod(quantized_points.shape[:-1])\n",
        "\n",
        "            if num_inliers > best_num_inliers:\n",
        "                best_num_inliers = num_inliers\n",
        "                best_configuration = configuration\n",
        "        iterations += 1\n",
        "        if iterations > 10000:\n",
        "            #raise ChessboardNotLocatedException(\"RANSAC produced no viable results\")\n",
        "            return 'bad'\n",
        "        \n",
        "    # Retrieve best configuration\n",
        "    (xmin, xmax, ymin, ymax), scale, quantized_points, intersection_points, warped_img_size = best_configuration\n",
        "\n",
        "    # Recompute transformation matrix based on all inliers\n",
        "    transformation_matrix = compute_transformation_matrix(\n",
        "        intersection_points, quantized_points)\n",
        "    inverse_transformation_matrix = np.linalg.inv(transformation_matrix)\n",
        "\n",
        "    # Warp grayscale image\n",
        "    dims = tuple(warped_img_size.astype(np.int))\n",
        "    warped = cv2.warpPerspective(gray, transformation_matrix, dims)\n",
        "    borders = np.zeros_like(gray)\n",
        "    borders[3:-3, 3:-3] = 1\n",
        "    warped_borders = cv2.warpPerspective(borders, transformation_matrix, dims)\n",
        "    warped_mask = warped_borders == 1\n",
        "\n",
        "    # Refine board boundaries\n",
        "    xmin, xmax = _compute_vertical_borders(\n",
        "        warped, warped_mask, scale, xmin, xmax)\n",
        "    scaled_xmin, scaled_xmax = (int(x * scale[0]) for x in (xmin, xmax))\n",
        "    warped_mask[:, :scaled_xmin] = warped_mask[:, scaled_xmax:] = False\n",
        "    ymin, ymax = _compute_horizontal_borders(\n",
        "        warped, warped_mask, scale, ymin, ymax)\n",
        "\n",
        "    # Transform boundaries to image space\n",
        "    corners = np.array([[xmin, ymin],\n",
        "                        [xmax, ymin],\n",
        "                        [xmax, ymax],\n",
        "                        [xmin, ymax]]).astype(np.float)\n",
        "    corners = corners * scale\n",
        "    points = interpolate(corners)\n",
        "\n",
        "    img_corners = _warp_points(inverse_transformation_matrix, corners)\n",
        "    img_points = _warp_points(inverse_transformation_matrix, points)\n",
        "    #img_corners = img_corners / img_scale\n",
        "    sorted_corners = sort_corner_points(img_corners)\n",
        "        \n",
        "    sorted_points = []\n",
        "    for p in img_points:\n",
        "        sorted_points.append((p[0],p[1]))\n",
        "    sorted_points = sorted(list(sorted_points), key=lambda k: [k[1], k[0]])\n",
        "    sorted_points, discard = augment_points(sorted_points, img)\n",
        "\n",
        "    if discard:\n",
        "        return 'bad'\n",
        "\n",
        "    base_len = find_base_len(img, sorted_points)\n",
        "    board = write_crop_images_predict(img, sorted_points, base_len)\n",
        "\n",
        "    return board\n",
        "\n",
        "def crop_single_img(file_name):\n",
        "    if file_name.endswith('.png') or file_name.endswith('.jpg'):\n",
        "\n",
        "        img, im_bw = read_img(file_name)\n",
        "        edges = canny_edge(im_bw)\n",
        "        try:\n",
        "            lines = hough_line(edges, img)\n",
        "        except ValueError:\n",
        "            return single_img_2(file_name)\n",
        "        h_lines, v_lines = h_v_lines(lines)\n",
        "        h_lines = merge_lines(h_lines, img)\n",
        "        v_lines = merge_lines(v_lines, img)\n",
        "\n",
        "        if len(h_lines) < 9 or len(v_lines) < 9: \n",
        "            return single_img_2(file_name)\n",
        "        intersection_points = line_intersections(h_lines, v_lines)\n",
        "        if len(intersection_points) < 50:\n",
        "            return single_img_2(file_name)\n",
        "        \n",
        "        points = cluster_points(intersection_points)\n",
        "        points, discard = augment_points(points, img)\n",
        "\n",
        "        if discard:\n",
        "            return single_img_2(file_name)\n",
        "\n",
        "        base_len = find_base_len(img, points)\n",
        "        board = write_crop_images_predict(img, points, base_len)\n",
        "        return board"
      ],
      "execution_count": null,
      "outputs": []
    },
    {
      "cell_type": "code",
      "metadata": {
        "id": "GSQ9Jopu4U28"
      },
      "source": [
        "def create_cropped(img_filename_list, simulated=0):\n",
        "    boards = {}\n",
        "    whole_boards = {}\n",
        "    n = 0\n",
        "\n",
        "    alt_img_filename_list = []\n",
        "    for file_name in img_filename_list:\n",
        "        if not (file_name.endswith('.png') or file_name.endswith('.jpg')): continue\n",
        "        print(file_name)\n",
        "\n",
        "        img, im_bw = read_img(file_name)\n",
        "        edges = canny_edge(im_bw)\n",
        "        try:\n",
        "            lines = hough_line(edges, img)\n",
        "        except ValueError:\n",
        "            alt_img_filename_list.append(file_name)\n",
        "            continue\n",
        "        h_lines, v_lines = h_v_lines(lines)\n",
        "        h_lines = merge_lines(h_lines, img)\n",
        "        v_lines = merge_lines(v_lines, img)\n",
        "\n",
        "        if len(h_lines) < 9 or len(v_lines) < 9: \n",
        "            alt_img_filename_list.append(file_name)\n",
        "            continue\n",
        "        intersection_points = line_intersections(h_lines, v_lines)\n",
        "        if len(intersection_points) < 50:\n",
        "            alt_img_filename_list.append(file_name)\n",
        "            continue\n",
        "        \n",
        "        points = cluster_points(intersection_points)\n",
        "        points, discard = augment_points(points, img)\n",
        "\n",
        "        if not discard:\n",
        "            n += 1\n",
        "            base_len = find_base_len(img, points)\n",
        "            board = write_crop_images_predict(img, points, base_len)\n",
        "            boards['board_' + str(n)] = board\n",
        "            \n",
        "            \n",
        "            if simulated == 1:\n",
        "                fen = file_name.split(\"/\")[2]\n",
        "                fen = fen.split(\".\")[0]\n",
        "                whole_boards['board_' + str(n)] = (img, fen)\n",
        "            elif simulated == 2:\n",
        "                num = file_name.split(\"/\")[2]\n",
        "                num = num.split(\".\")[0]\n",
        "\n",
        "                f = open('./test_50/' + str(num) + '.json')\n",
        "                data = json.load(f)\n",
        "\n",
        "                fen = data['fen']\n",
        "                fen = fen.replace('/','-')\n",
        "\n",
        "                whole_boards['board_' + str(n)] = (img, fen)\n",
        "            else:\n",
        "                whole_boards['board_' + str(n)] = img\n",
        "        else: \n",
        "            alt_img_filename_list.append(file_name)\n",
        "\n",
        "    bad = 0\n",
        "    for file_name in alt_img_filename_list:\n",
        "        if not (file_name.endswith('.png') or file_name.endswith('.jpg')): continue\n",
        "        print(file_name)\n",
        "\n",
        "        img = cv2.imread(str(file_name),1)\n",
        "        img, img_scale = resize_image(img)\n",
        "\n",
        "        gray = cv2.cvtColor(img, cv2.COLOR_BGR2GRAY)\n",
        "        edges = _detect_edges(gray)\n",
        "\n",
        "        try:\n",
        "            lines = _detect_lines(edges)\n",
        "        except AttributeError:\n",
        "            bad += 1\n",
        "            continue\n",
        "\n",
        "        if lines.shape[0] > 400:\n",
        "            #raise ChessboardNotLocatedException(\"too many lines in the image\")\n",
        "            bad += 1\n",
        "            continue\n",
        "\n",
        "        try:\n",
        "            all_horizontal_lines, all_vertical_lines = _cluster_horizontal_and_vertical_lines(\n",
        "              lines)\n",
        "        except ValueError:\n",
        "            bad += 1\n",
        "            continue\n",
        "\n",
        "        horizontal_lines = _eliminate_similar_lines(\n",
        "            all_horizontal_lines, all_vertical_lines)\n",
        "        vertical_lines = _eliminate_similar_lines(\n",
        "            all_vertical_lines, all_horizontal_lines)\n",
        "\n",
        "        all_intersection_points = _get_intersection_points(horizontal_lines,\n",
        "                                                          vertical_lines)\n",
        "\n",
        "        best_num_inliers = 0\n",
        "        best_configuration = None\n",
        "        iterations = 0\n",
        "\n",
        "        prev_bad = bad\n",
        "        while iterations < 200 or best_num_inliers < 30:\n",
        "            try:\n",
        "                row1, row2 = _choose_from_range(len(horizontal_lines))\n",
        "            except ValueError:\n",
        "                bad += 1\n",
        "                break \n",
        "            try:\n",
        "                col1, col2 = _choose_from_range(len(vertical_lines))\n",
        "            except ValueError:\n",
        "                bad += 1\n",
        "                break   \n",
        "            \n",
        "            transformation_matrix = _compute_homography(all_intersection_points,\n",
        "                                                        row1, row2, col1, col2)\n",
        "            warped_points = _warp_points(\n",
        "                transformation_matrix, all_intersection_points)\n",
        "            warped_points, intersection_points, horizontal_scale, vertical_scale = _discard_outliers(\n",
        "                warped_points, all_intersection_points)\n",
        "            num_inliers = np.prod(warped_points.shape[:-1])\n",
        "            if num_inliers > best_num_inliers:\n",
        "                warped_points *= np.array((horizontal_scale, vertical_scale))\n",
        "\n",
        "                # Quantize and reject deuplicates\n",
        "                (xmin, xmax, ymin, ymax), scale, quantized_points, intersection_points, warped_img_size = configuration = _quantize_points(\n",
        "                    warped_points, intersection_points)\n",
        "\n",
        "                # Calculate remaining number of inliers\n",
        "                num_inliers = np.prod(quantized_points.shape[:-1])\n",
        "\n",
        "                if num_inliers > best_num_inliers:\n",
        "                    best_num_inliers = num_inliers\n",
        "                    best_configuration = configuration\n",
        "            iterations += 1\n",
        "            if iterations > 10000:\n",
        "                #raise ChessboardNotLocatedException(\"RANSAC produced no viable results\")\n",
        "                bad += 1\n",
        "                break\n",
        "        if bad > prev_bad:\n",
        "            continue\n",
        "        \n",
        "        # Retrieve best configuration\n",
        "        (xmin, xmax, ymin, ymax), scale, quantized_points, intersection_points, warped_img_size = best_configuration\n",
        "\n",
        "        # Recompute transformation matrix based on all inliers\n",
        "        transformation_matrix = compute_transformation_matrix(\n",
        "            intersection_points, quantized_points)\n",
        "        inverse_transformation_matrix = np.linalg.inv(transformation_matrix)\n",
        "\n",
        "        # Warp grayscale image\n",
        "        dims = tuple(warped_img_size.astype(np.int))\n",
        "        warped = cv2.warpPerspective(gray, transformation_matrix, dims)\n",
        "        borders = np.zeros_like(gray)\n",
        "        borders[3:-3, 3:-3] = 1\n",
        "        warped_borders = cv2.warpPerspective(borders, transformation_matrix, dims)\n",
        "        warped_mask = warped_borders == 1\n",
        "\n",
        "        # Refine board boundaries\n",
        "        xmin, xmax = _compute_vertical_borders(\n",
        "            warped, warped_mask, scale, xmin, xmax)\n",
        "        scaled_xmin, scaled_xmax = (int(x * scale[0]) for x in (xmin, xmax))\n",
        "        warped_mask[:, :scaled_xmin] = warped_mask[:, scaled_xmax:] = False\n",
        "        ymin, ymax = _compute_horizontal_borders(\n",
        "            warped, warped_mask, scale, ymin, ymax)\n",
        "\n",
        "        # Transform boundaries to image space\n",
        "        corners = np.array([[xmin, ymin],\n",
        "                            [xmax, ymin],\n",
        "                            [xmax, ymax],\n",
        "                            [xmin, ymax]]).astype(np.float)\n",
        "        corners = corners * scale\n",
        "        points = interpolate(corners)\n",
        "\n",
        "        img_corners = _warp_points(inverse_transformation_matrix, corners)\n",
        "        img_points = _warp_points(inverse_transformation_matrix, points)\n",
        "        #img_corners = img_corners / img_scale\n",
        "        sorted_corners = sort_corner_points(img_corners)\n",
        "        \n",
        "        sorted_points = []\n",
        "        for p in img_points:\n",
        "            sorted_points.append((p[0],p[1]))\n",
        "        sorted_points = sorted(list(sorted_points), key=lambda k: [k[1], k[0]])\n",
        "        sorted_points, discard = augment_points(sorted_points, img)\n",
        "\n",
        "        if not discard:\n",
        "            base_len = find_base_len(img, sorted_points)\n",
        "            n += 1\n",
        "            board = write_crop_images_predict(img, sorted_points, base_len)\n",
        "            boards['board_' + str(n)] = board\n",
        "\n",
        "            if simulated == 1:\n",
        "                fen = file_name.split(\"/\")[2]\n",
        "                fen = fen.split(\".\")[0]\n",
        "                whole_boards['board_' + str(n)] = (img, fen)\n",
        "            elif simulated == 2:\n",
        "                num = file_name.split(\"/\")[2]\n",
        "                num = num.split(\".\")[0]\n",
        "\n",
        "                f = open('./test_50/' + str(num) + '.json')\n",
        "                data = json.load(f)\n",
        "\n",
        "                fen = data['fen']\n",
        "                fen = fen.replace('/','-')\n",
        "\n",
        "                whole_boards['board_' + str(n)] = (img, fen)\n",
        "            else:\n",
        "                whole_boards['board_' + str(n)] = img\n",
        "    \n",
        "    return boards, whole_boards, bad"
      ],
      "execution_count": null,
      "outputs": []
    },
    {
      "cell_type": "code",
      "metadata": {
        "colab": {
          "base_uri": "https://localhost:8080/"
        },
        "id": "n25csngk3DcB",
        "outputId": "742af242-f0f9-433c-b91e-e39a7aa4cd67"
      },
      "source": [
        "img_filename_list = []\n",
        "folder_name = './test_renders/*'\n",
        "for path_name in glob.glob(folder_name):\n",
        "    img_filename_list.append(path_name)\n",
        "\n",
        "boards_render, entire_boards_render, bad = create_cropped(img_filename_list, simulated=1)"
      ],
      "execution_count": null,
      "outputs": [
        {
          "output_type": "stream",
          "name": "stdout",
          "text": [
            "./test_renders/6k1-5pp1-p4n1p-2p1N3-N3PP2-1p4P1-2Bn3P-6K1 w - - 0 33.png\n",
            "./test_renders/5K2-r5P1-5k2-8-8-8-8-8 w - - 7 57.png\n",
            "./test_renders/r7-3n2pp-2pkp3-1p2p3-pP2P1P1-1P2KP2-2P1N2P-R7 b - - 0 24.png\n",
            "./test_renders/r2qr1k1-pp3ppp-3b1n2-8-2P5-2NP2Q1-PP3PPP-R1B2RK1 w - - 5 14.png\n",
            "./test_renders/5rk1-2R1Qpp1-p3p2r-3q3p-3P4-7P-1P3PP1-2R3K1 b - - 8 27.png\n",
            "./test_renders/2kn1rr1-ppp5-8-2PRp1Bp-1P2p2P-P3P1p1-6P1-5RK1 b - - 3 28.png\n",
            "./test_renders/r3k2r-pp1bbpR1-1q2p2p-3p4-4n2Q-2NB1P1P-PPPB1P2-R3K3 w Qkq - 1 17.png\n",
            "./test_renders/2kr4-1bq2pQ1-p3p3-2pp4-6R1-2P4r-P1P1BP1P-1R4K1 w - - 0 21.png\n",
            "./test_renders/r1bqr3-ppp3pp-6k1-3p4-3Q4-2P3K1-PP4PP-RNB4R w - - 0 15.png\n",
            "./test_renders/1k6-1p4p1-1pp1p3-8-5q1p-Q4P2-PPP3r1-1K1R4 b - - 1 31.png\n",
            "./test_renders/r3kbnr-pp2pppp-3p4-q3P3-2p1Q1b1-2P2P2-PP3P1P-RNB1KB1R b KQkq - 0 9.png\n",
            "./test_renders/r3k2r-ppp1qppp-5n2-4P1B1-2B3b1-8-P1PN2PP-Q4RK1 b kq - 2 13.png\n",
            "./test_renders/8-1p4k1-1pp1b2p-1P1P2p1-P1K1Bp2-5P1P-6P1-8 b - - 0 43.png\n",
            "./test_renders/2kr4-Qp1n1pp1-p1p5-3p4-Nq1RP2r-8-PPP2P2-1K5R w - - 0 23.png\n",
            "./test_renders/r3b1k1-1p5p-p1pp2q1-5p2-1PPBpP1b-PQ2P1PP-3P2K1-R4R2 w - - 3 25.png\n",
            "./test_renders/5r1k-1p3Qbp-4P1p1-p7-3q4-8-5PPP-R1R3K1 w - - 1 31.png\n",
            "./test_renders/r2q2k1-1p2b1pp-2pp4-p3p3-2P1P1b1-P1N2N2-QP4PP-5RK1 b - - 4 23.png\n",
            "./test_renders/6k1-5bpp-p5q1-1pP1p3-r2pP3-Q4P1P-6P1-2R2RK1 w - - 0 32.png\n",
            "./test_renders/3q1k2-1Q2b1p1-1pP2n2-p4PB1-P2p4-8-5PPP-6K1 b - - 4 34.png\n",
            "./test_renders/r4rk1-ppp2pbp-3q1np1-8-8-1P2P3-PBPPQ1PP-RN3RK1 w - - 3 13.png\n",
            "./test_renders/4r1k1-bb2rpp1-p2Pq2p-1p6-3P4-1P4P1-P1NQRP1P-4R1K1 b - - 0 24.png\n",
            "./test_renders/7k-pp4p1-4n2p-4Q3-1KPrN3-4q2P-PP6-R7 b - - 0 31.png\n",
            "./test_renders/2b5-p4p1k-3q1Pp1-2p5-3p1p1P-1R3P2-PQ4P1-6K1 w - - 0 48.png\n",
            "./test_renders/8-8-4QK2-8-3k1p2-5Pp1-6P1-1q6 w - - 2 58.png\n",
            "./test_renders/4r1k1-2pb1p1p-3p1qp1-3P4-1pP5-1P1BQP2-6PP-4R1K1 w - - 11 38.png\n",
            "./test_renders/rnbqkb1r-pp2pppp-8-4p3-3P2n1-5N2-PP3PPP-RNBQKB1R w KQkq - 0 7.png\n",
            "./test_renders/3r4-p1p2pk1-1p3p1p-5P2-2N2bP1-1B5P-PPP5-1K3R2 w - - 4 26.png\n",
            "./test_renders/2r2rk1-1p1b1ppp-p3p1n1-3pP3-P1q5-R4NP1-1B1Q1PBP-4K2R w K - 6 20.png\n",
            "./test_renders/8-6k1-6b1-1p2q3-8-7p-2PQ2P1-5R1K w - - 0 64.png\n",
            "./test_renders/r1bqkbnr-ppp2ppp-2n1p3-8-3pP3-5N2-PPPPNPPP-R1BQKB1R w KQkq - 2 5.png\n",
            "./test_renders/8-2pr2k1-4N1p1-1p5p-8-2P1Q1K1-2q3PP-8 b - - 10 41.png\n",
            "./test_renders/r4rk1-p4ppp-b4b2-3q4-8-P3P2P-R1PNNPP1-3Q1RK1 w - - 2 18.png\n",
            "./test_renders/5k2-8-1b2P3-p2K4-1p3P1p-2p4P-P7-2B5 b - - 0 39.png\n",
            "./test_renders/7R-8-5pk1-8-4p1p1-2K4p-1P6-8 w - - 0 54.png\n",
            "./test_renders/4r3-K1B4R-2kP2p1-P7-8-r5P1-7P-8 w - - 3 41.png\n",
            "./test_renders/r2qr1k1-1bpn1p1p-1p1p1p2-3N1P1Q-4PR2-1P6-PP4PP-R5K1 b - - 4 20.png\n",
            "./test_renders/3r2k1-1n3ppp-p1p2q2-1p1P4-1P2N3-P5P1-5P1P-2RQ2K1 b - - 1 24.png\n",
            "./test_renders/k7-P7-1K6-1N6-8-4p1p1-3n4-8 b - - 1 59.png\n",
            "./test_renders/2r2rk1-pp2qppp-2pb4-3pNP2-3P4-1P3P2-PBQ3PP-1BR2nK1 b - - 0 18.png\n",
            "./test_renders/5r2-8-1p3qkp-2n5-1PP3P1-4Q2P-8-4R1K1 b - - 0 36.png\n",
            "./test_renders/5rk1-pbp3pp-1p1p3r-3PnB1q-1PP2p1P-P4P2-2Q2BP1-4RRK1 w - - 3 26.png\n",
            "./test_renders/2r5-4Qrkp-2p3p1-5p2-P1RP1q2-7P-6P1-2R3K1 w - - 2 32.png\n",
            "./test_renders/3r2k1-6pp-p3p3-4Np2-1p1QbP2-1P5P-P5PK-2R5 b - - 0 31.png\n",
            "./test_renders/8-8-5p2-5Pp1-4K1P1-2k5-8-8 b - - 13 64.png\n",
            "./test_renders/8-8-5k2-1p4p1-1R1P2K1-6R1-3r2b1-8 w - - 0 37.png\n",
            "./test_renders/r4rk1-1pp1b1pp-p1nqb3-3p1p2-P2P2n1-1PNB1N2-1BP1QPPP-R4RK1 w - - 0 14.png\n",
            "./test_renders/r5k1-1b4b1-2p1p2p-pp4pQ-8-P5BP-1Pq3PN-5R1K b - - 0 24.png\n",
            "./test_renders/3r2k1-1p3p1p-2p3p1-3q2PP-3r1P2-pP1bQ3-P7-K1R1R3 b - - 0 33.png\n",
            "./test_renders/r1r3k1-pp3pp1-2n1bb1p-8-1P2B3-P3BN1P-5PP1-2RR2K1 w - - 3 22.png\n",
            "./test_renders/5k1r-pr2b1p1-1p1p1p1p-2nN1b2-2BB4-8-P4PPP-3RRK2 b - - 7 24.png\n",
            "./test_renders/r1b1k1nr-pppp1ppp-2n5-4P1N1-1b3B2-2P5-Pq1QPPPP-RN2KB1R b KQkq - 0 7.png\n",
            "./test_renders/r2qk2r-p1p2ppp-2pb1n2-3p4-2P2Qb1-1PN1P3-PB3PPP-R3KB1R w KQkq - 4 12.png\n",
            "./test_renders/2r5-6pk-5p1p-5P2-3P1P1N-bP4P1-P2q3P-1K1R4 w - - 0 41.png\n",
            "./test_renders/5rk1-p4pp1-4p1p1-3p4-7Q-1NP1P3-PP1K1Pqn-R4R2 w - - 0 25.png\n",
            "./test_renders/r2q1rk1-1pp2ppp-1pp5-4B3-1P2P2n-P2P1P2-2PQ1P1P-R4K1R w - - 0 16.png\n",
            "./test_renders/8-8-3p1k2-R2P3K-5P2-3r2P1-8-8 w - - 1 63.png\n",
            "./test_renders/5r2-1p4bk-p1pQ3p-P5pq-1P2Pr2-2P5-1B5P-R4RKB b - - 0 31.png\n",
            "./test_renders/rnb1k2r-1p2npp1-p3p2p-q2pP3-1b1p1PP1-P2B1N2-1PPN3P-R1BQ1RK1 b kq - 2 10.png\n",
            "./test_renders/rk5r-pp4pp-1qpRQ3-8-8-2p5-PPP2PPP-4R1K1 w - - 1 20.png\n",
            "./test_renders/r2q1k2-pppb2pQ-4p2r-4Rn1P-2PP4-2KB1R2-PP3PP1-8 w - - 5 26.png\n",
            "./test_renders/6k1-p5N1-6r1-1q1pp2R-4P3-4QK2-5P2-8 b - - 2 38.png\n",
            "./test_renders/rn1qkb1r-pp4pp-3p4-2p1N3-2BnP1b1-2N1B3-PPP2PPP-R2QK2R b KQkq - 0 11.png\n",
            "./test_renders/r2q1rk1-pp1bbpp1-3p1n1p-2p5-2B1P2B-2NQ4-PPP2PPP-R4RK1 w - - 2 12.png\n",
            "./test_renders/6k1-p2R4-6p1-5p2-4bP2-r1K5-P3R3-8 w - - 4 41.png\n",
            "./test_renders/r1bq1bnr-pppp2p1-2nk3p-4pQ2-3PP3-5N2-PPP2PPP-RNB1K2R b KQ - 0 7.png\n",
            "./test_renders/4b3-8-5k2-7p-p2N3P-1p2K1P1-1P6-8 w - - 0 43.png\n",
            "./test_renders/4r1k1-6b1-p5pp-Bp3p2-4p3-2N2nP1-P4PBP-3R3K w - - 0 34.png\n",
            "./test_renders/8-4k3-2q2pp1-P6p-3Q3P-2p1P1P1-5K2-8 w - - 0 51.png\n",
            "./test_renders/8-3N2p1-7p-3p4-p1p4P-2P3K1-Bk4P1-8 w - - 0 41.png\n",
            "./test_renders/6k1-1p3pp1-pq5p-8-P2bn3-6QP-1P1BBPP1-1R4K1 w - - 1 25.png\n",
            "./test_renders/4K3-4P3-6k1-1R6-5r2-p7-8-8 b - - 0 67.png\n",
            "./test_renders/r4rk1-4Qp2-3p2p1-3P2Pp-2nB3P-1N6-qPP5-1K1R1R2 w - - 1 32.png\n",
            "./test_renders/8-5k1p-3Bp3-1P2Pp2-5b2-3B1n2-7P-6K1 w - - 1 39.png\n",
            "./test_renders/3k3r-pp1P1ppp-r1p3q1-1N3n2-6n1-8-PP3PPP-2RQR1K1 b - - 2 19.png\n",
            "./test_renders/8-4kp1R-3bp1P1-3p4-5P2-4r3-2B5-6K1 b - - 0 36.png\n",
            "./test_renders/3r2k1-5ppp-Rp2p3-1P6-2n2PP1-8-5K1P-8 b - - 1 35.png\n",
            "./test_renders/r1q1k3-pppbn3-3p2r1-3PpPn1-1PP3p1-P1NBQ3-5PPN-R4RK1 b q - 0 20.png\n",
            "./test_renders/8-4n1k1-4P3-3p2PP-rp1P4-3K4-P3R3-8 w - - 0 47.png\n",
            "./test_renders/r7-4k1p1-3p1n1p-1pp1p3-4PP2-1BPq3P-6P1-4QRK1 b - - 0 27.png\n",
            "./test_renders/5Q2-3kp3-1pp4P-8-4p3-pPq1P3-P1P3P1-1K6 w - - 2 37.png\n",
            "./test_renders/5rk1-p1p2ppp-1pn5-5N2-3q1BQ1-P1n5-2P3PP-4R2K b - - 0 19.png\n",
            "./test_renders/k6r-1p3ppp-3rp3-8-bq6-R5QP-1P3PP1-R5K1 b - - 0 25.png\n",
            "./test_renders/r7-PR2n3-2n1pk2-2Pp2p1-1r1P4-3NP3-5P2-R5K1 w - - 1 39.png\n",
            "./test_renders/8-p6p-6pk-8-3n4-3PN3-3qrPPP-2R2QK1 b - - 6 26.png\n",
            "./test_renders/4r3-3q1pk1-1n1b1Rp1-p2Pp1Pp-1p1PQ3-4N1B1-PP5P-1K6 b - - 0 33.png\n",
            "./test_renders/r3k2r-p3bppp-2p1q3-2P5-1P1P2n1-P1N1B3-5Pp1-R2QK1R1 w Qkq - 0 17.png\n",
            "./test_renders/3q2kr-1p1n2p1-p1p2r2-P1Pp3P-1P1PpQ1R-4P3-4B3-2K4R w - - 1 44.png\n",
            "./test_renders/r1b2r2-1p5k-p2p2pP-3NpP2-3q4-3B4-PPPQ4-3K3R b - - 0 23.png\n",
            "./test_renders/1k1r4-ppp2pb1-4b2p-5qp1-1P3p2-3r1N2-1P3QPP-R1B1R1K1 b - - 2 22.png\n",
            "./test_renders/r1b1k1n1-p2p1p2-2p5-q5bQ-4P3-6B1-PPP3P1-RN2KB2 w Qq - 1 13.png\n",
            "./test_renders/r2q1rk1-ppp2pp1-2n2bbp-3p4-3P2P1-2NBPN1P-PP3P2-R2Q1RK1 w - - 1 13.png\n",
            "./test_renders/r1k4r-pp1nQ1p1-5p2-1N3P1p-3P4-2P5-q5PP-4R2K b - - 3 25.png\n",
            "./test_renders/3rk2r-pp3pp1-4p3-4P2p-q2nQ2P-P3B3-5PP1-R4RK1 w k - 0 20.png\n",
            "./test_renders/4Q1k1-pp4p1-4br1p-4N3-1P3q2-P7-6PP-2R4K b - - 1 29.png\n",
            "./test_renders/r1bq1r2-ppbn2k1-4p1p1-3pP1p1-3P1p2-2PB1N1Q-PP5P-R1B2RK1 w - - 0 19.png\n",
            "./test_renders/2r2r1k-1ppb2b1-p3q1Bp-2PR4-8-P1N1P3-1PQ2PP1-2K4R w - - 1 21.png\n",
            "./test_renders/7r-kpQ2p2-r2R3p-4pb2-2N1q3-8-PP3P1P-K1R5 b - - 3 27.png\n",
            "./test_renders/6k1-7p-3P2p1-1R6-8-7r-K7-8 b - - 0 43.png\n",
            "./test_renders/r4rk1-1pp2ppp-p7-4p3-1PP1N3-P4P1b-5P1P-R2R3K b - - 0 22.png\n",
            "./test_renders/7q-1p3pk1-p6r-3R4-3Pp1p1-4P1P1-PPQ4P-6K1 b - - 2 33.png\n",
            "./test_renders/rnbqkb1r-pp2pppp-8-4p3-3P2n1-5N2-PP3PPP-RNBQKB1R w KQkq - 0 7.png\n",
            "./test_renders/2r5-4Qrkp-2p3p1-5p2-P1RP1q2-7P-6P1-2R3K1 w - - 2 32.png\n",
            "./test_renders/r4rk1-4Qp2-3p2p1-3P2Pp-2nB3P-1N6-qPP5-1K1R1R2 w - - 1 32.png\n",
            "./test_renders/7q-1p3pk1-p6r-3R4-3Pp1p1-4P1P1-PPQ4P-6K1 b - - 2 33.png\n"
          ]
        }
      ]
    },
    {
      "cell_type": "markdown",
      "metadata": {
        "id": "aFOEZweTeBct"
      },
      "source": [
        ""
      ]
    },
    {
      "cell_type": "markdown",
      "metadata": {
        "id": "vSRRgt_waKBw"
      },
      "source": [
        "**The following cell shows the 64 individual images that were cropped from the input image**"
      ]
    },
    {
      "cell_type": "code",
      "metadata": {
        "colab": {
          "base_uri": "https://localhost:8080/",
          "height": 1000
        },
        "id": "qACcrOvD8l3h",
        "outputId": "4255d111-7f69-47fc-d7b1-a5793c8cd613"
      },
      "source": [
        "cropped_board_imgs = crop_single_img(INPUT_FILE)\n",
        "for i in range(64):\n",
        "  cv2_imshow(cropped_board_imgs[i])"
      ],
      "execution_count": null,
      "outputs": [
        {
          "output_type": "display_data",
          "data": {
            "image/png": "[encoded data removed]",
            "text/plain": [
              "<PIL.Image.Image image mode=L size=46x92 at 0x7F603AA8E190>"
            ]
          },
          "metadata": {}
        },
        {
          "output_type": "display_data",
          "data": {
            "image/png": "[encoded data removed]",
            "text/plain": [
              "<PIL.Image.Image image mode=L size=46x92 at 0x7F6037D9D150>"
            ]
          },
          "metadata": {}
        },
        {
          "output_type": "display_data",
          "data": {
            "image/png": "[encoded data removed]",
            "text/plain": [
              "<PIL.Image.Image image mode=L size=46x92 at 0x7F6037D2FF10>"
            ]
          },
          "metadata": {}
        },
        {
          "output_type": "display_data",
          "data": {
            "image/png": "[encoded data removed]",
            "text/plain": [
              "<PIL.Image.Image image mode=L size=46x92 at 0x7F6037D2FF10>"
            ]
          },
          "metadata": {}
        },
        {
          "output_type": "display_data",
          "data": {
            "image/png": "[encoded data removed]",
            "text/plain": [
              "<PIL.Image.Image image mode=L size=46x92 at 0x7F6037D2F750>"
            ]
          },
          "metadata": {}
        },
        {
          "output_type": "display_data",
          "data": {
            "image/png": "[encoded data removed]",
            "text/plain": [
              "<PIL.Image.Image image mode=L size=46x92 at 0x7F6037D22710>"
            ]
          },
          "metadata": {}
        },
        {
          "output_type": "display_data",
          "data": {
            "image/png": "[encoded data removed]",
            "text/plain": [
              "<PIL.Image.Image image mode=L size=46x92 at 0x7F6037D9D950>"
            ]
          },
          "metadata": {}
        },
        {
          "output_type": "display_data",
          "data": {
            "image/png": "[encoded data removed]",
            "text/plain": [
              "<PIL.Image.Image image mode=L size=46x92 at 0x7F6037D2FF10>"
            ]
          },
          "metadata": {}
        },
        {
          "output_type": "display_data",
          "data": {
            "image/png": "[encoded data removed]",
            "text/plain": [
              "<PIL.Image.Image image mode=L size=46x92 at 0x7F6037D2F750>"
            ]
          },
          "metadata": {}
        },
        {
          "output_type": "display_data",
          "data": {
            "image/png": "[encoded data removed]",
            "text/plain": [
              "<PIL.Image.Image image mode=L size=46x92 at 0x7F6037D2F910>"
            ]
          },
          "metadata": {}
        },
        {
          "output_type": "display_data",
          "data": {
            "image/png": "[encoded data removed]",
            "text/plain": [
              "<PIL.Image.Image image mode=L size=46x92 at 0x7F6037D2FF10>"
            ]
          },
          "metadata": {}
        },
        {
          "output_type": "display_data",
          "data": {
            "image/png": "[encoded data removed]",
            "text/plain": [
              "<PIL.Image.Image image mode=L size=46x92 at 0x7F6037D2FF50>"
            ]
          },
          "metadata": {}
        },
        {
          "output_type": "display_data",
          "data": {
            "image/png": "[encoded data removed]",
            "text/plain": [
              "<PIL.Image.Image image mode=L size=46x92 at 0x7F6037D2FF10>"
            ]
          },
          "metadata": {}
        },
        {
          "output_type": "display_data",
          "data": {
            "image/png": "[encoded data removed]",
            "text/plain": [
              "<PIL.Image.Image image mode=L size=46x92 at 0x7F6037D2F910>"
            ]
          },
          "metadata": {}
        },
        {
          "output_type": "display_data",
          "data": {
            "image/png": "[encoded data removed]",
            "text/plain": [
              "<PIL.Image.Image image mode=L size=46x92 at 0x7F6037D2F350>"
            ]
          },
          "metadata": {}
        },
        {
          "output_type": "display_data",
          "data": {
            "image/png": "[encoded data removed]",
            "text/plain": [
              "<PIL.Image.Image image mode=L size=46x92 at 0x7F6037D9D950>"
            ]
          },
          "metadata": {}
        },
        {
          "output_type": "display_data",
          "data": {
            "image/png": "[encoded data removed]",
            "text/plain": [
              "<PIL.Image.Image image mode=L size=46x92 at 0x7F6037D2FF10>"
            ]
          },
          "metadata": {}
        },
        {
          "output_type": "display_data",
          "data": {
            "image/png": "[encoded data removed]",
            "text/plain": [
              "<PIL.Image.Image image mode=L size=46x92 at 0x7F6037D2F750>"
            ]
          },
          "metadata": {}
        },
        {
          "output_type": "display_data",
          "data": {
            "image/png": "[encoded data removed]",
            "text/plain": [
              "<PIL.Image.Image image mode=L size=46x92 at 0x7F6037D35710>"
            ]
          },
          "metadata": {}
        },
        {
          "output_type": "display_data",
          "data": {
            "image/png": "[encoded data removed]",
            "text/plain": [
              "<PIL.Image.Image image mode=L size=46x92 at 0x7F6037D35710>"
            ]
          },
          "metadata": {}
        },
        {
          "output_type": "display_data",
          "data": {
            "image/png": "[encoded data removed]",
            "text/plain": [
              "<PIL.Image.Image image mode=L size=46x92 at 0x7F6037D2F750>"
            ]
          },
          "metadata": {}
        },
        {
          "output_type": "display_data",
          "data": {
            "image/png": "[encoded data removed]",
            "text/plain": [
              "<PIL.Image.Image image mode=L size=46x92 at 0x7F6037D2FF10>"
            ]
          },
          "metadata": {}
        },
        {
          "output_type": "display_data",
          "data": {
            "image/png": "[encoded data removed]",
            "text/plain": [
              "<PIL.Image.Image image mode=L size=46x92 at 0x7F6037D1BAD0>"
            ]
          },
          "metadata": {}
        },
        {
          "output_type": "display_data",
          "data": {
            "image/png": "[encoded data removed]",
            "text/plain": [
              "<PIL.Image.Image image mode=L size=46x92 at 0x7F6037D2FF50>"
            ]
          },
          "metadata": {}
        },
        {
          "output_type": "display_data",
          "data": {
            "image/png": "[encoded data removed]",
            "text/plain": [
              "<PIL.Image.Image image mode=L size=46x92 at 0x7F6037D2F350>"
            ]
          },
          "metadata": {}
        },
        {
          "output_type": "display_data",
          "data": {
            "image/png": "[encoded data removed]",
            "text/plain": [
              "<PIL.Image.Image image mode=L size=46x92 at 0x7F6037D2FF10>"
            ]
          },
          "metadata": {}
        },
        {
          "output_type": "display_data",
          "data": {
            "image/png": "[encoded data removed]",
            "text/plain": [
              "<PIL.Image.Image image mode=L size=46x92 at 0x7F6037D9D150>"
            ]
          },
          "metadata": {}
        },
        {
          "output_type": "display_data",
          "data": {
            "image/png": "[encoded data removed]",
            "text/plain": [
              "<PIL.Image.Image image mode=L size=46x92 at 0x7F6037D9D950>"
            ]
          },
          "metadata": {}
        },
        {
          "output_type": "display_data",
          "data": {
            "image/png": "[encoded data removed]",
            "text/plain": [
              "<PIL.Image.Image image mode=L size=46x92 at 0x7F603AA8E190>"
            ]
          },
          "metadata": {}
        },
        {
          "output_type": "display_data",
          "data": {
            "image/png": "[encoded data removed]",
            "text/plain": [
              "<PIL.Image.Image image mode=L size=46x92 at 0x7F6037D1BAD0>"
            ]
          },
          "metadata": {}
        },
        {
          "output_type": "display_data",
          "data": {
            "image/png": "[encoded data removed]",
            "text/plain": [
              "<PIL.Image.Image image mode=L size=46x92 at 0x7F6037D9D150>"
            ]
          },
          "metadata": {}
        },
        {
          "output_type": "display_data",
          "data": {
            "image/png": "[encoded data removed]",
            "text/plain": [
              "<PIL.Image.Image image mode=L size=46x92 at 0x7F6037D9D150>"
            ]
          },
          "metadata": {}
        },
        {
          "output_type": "display_data",
          "data": {
            "image/png": "[encoded data removed]",
            "text/plain": [
              "<PIL.Image.Image image mode=L size=46x92 at 0x7F6037D2F750>"
            ]
          },
          "metadata": {}
        },
        {
          "output_type": "display_data",
          "data": {
            "image/png": "[encoded data removed]",
            "text/plain": [
              "<PIL.Image.Image image mode=L size=46x92 at 0x7F6037D1BAD0>"
            ]
          },
          "metadata": {}
        },
        {
          "output_type": "display_data",
          "data": {
            "image/png": "[encoded data removed]",
            "text/plain": [
              "<PIL.Image.Image image mode=L size=46x92 at 0x7F6037D2FF10>"
            ]
          },
          "metadata": {}
        },
        {
          "output_type": "display_data",
          "data": {
            "image/png": "[encoded data removed]",
            "text/plain": [
              "<PIL.Image.Image image mode=L size=46x92 at 0x7F6037D2FF50>"
            ]
          },
          "metadata": {}
        },
        {
          "output_type": "display_data",
          "data": {
            "image/png": "[encoded data removed]",
            "text/plain": [
              "<PIL.Image.Image image mode=L size=46x92 at 0x7F6037D2F750>"
            ]
          },
          "metadata": {}
        },
        {
          "output_type": "display_data",
          "data": {
            "image/png": "[encoded data removed]",
            "text/plain": [
              "<PIL.Image.Image image mode=L size=46x92 at 0x7F6037D9D6D0>"
            ]
          },
          "metadata": {}
        },
        {
          "output_type": "display_data",
          "data": {
            "image/png": "[encoded data removed]",
            "text/plain": [
              "<PIL.Image.Image image mode=L size=46x92 at 0x7F6037D9D150>"
            ]
          },
          "metadata": {}
        },
        {
          "output_type": "display_data",
          "data": {
            "image/png": "[encoded data removed]",
            "text/plain": [
              "<PIL.Image.Image image mode=L size=46x92 at 0x7F6037D9D950>"
            ]
          },
          "metadata": {}
        },
        {
          "output_type": "display_data",
          "data": {
            "image/png": "[encoded data removed]",
            "text/plain": [
              "<PIL.Image.Image image mode=L size=46x92 at 0x7F6037D9D150>"
            ]
          },
          "metadata": {}
        },
        {
          "output_type": "display_data",
          "data": {
            "image/png": "[encoded data removed]",
            "text/plain": [
              "<PIL.Image.Image image mode=L size=46x92 at 0x7F6037D2FF50>"
            ]
          },
          "metadata": {}
        },
        {
          "output_type": "display_data",
          "data": {
            "image/png": "[encoded data removed]",
            "text/plain": [
              "<PIL.Image.Image image mode=L size=46x92 at 0x7F6037D2FF50>"
            ]
          },
          "metadata": {}
        },
        {
          "output_type": "display_data",
          "data": {
            "image/png": "[encoded data removed]",
            "text/plain": [
              "<PIL.Image.Image image mode=L size=46x92 at 0x7F6037D2FF50>"
            ]
          },
          "metadata": {}
        },
        {
          "output_type": "display_data",
          "data": {
            "image/png": "[encoded data removed]",
            "text/plain": [
              "<PIL.Image.Image image mode=L size=46x92 at 0x7F6037D2FF50>"
            ]
          },
          "metadata": {}
        },
        {
          "output_type": "display_data",
          "data": {
            "image/png": "[encoded data removed]",
            "text/plain": [
              "<PIL.Image.Image image mode=L size=46x92 at 0x7F6037D2FF50>"
            ]
          },
          "metadata": {}
        },
        {
          "output_type": "display_data",
          "data": {
            "image/png": "[encoded data removed]",
            "text/plain": [
              "<PIL.Image.Image image mode=L size=46x92 at 0x7F6037D2FF50>"
            ]
          },
          "metadata": {}
        },
        {
          "output_type": "display_data",
          "data": {
            "image/png": "[encoded data removed]",
            "text/plain": [
              "<PIL.Image.Image image mode=L size=46x92 at 0x7F6037D2FF50>"
            ]
          },
          "metadata": {}
        },
        {
          "output_type": "display_data",
          "data": {
            "image/png": "[encoded data removed]",
            "text/plain": [
              "<PIL.Image.Image image mode=L size=46x92 at 0x7F6037D2FF50>"
            ]
          },
          "metadata": {}
        },
        {
          "output_type": "display_data",
          "data": {
            "image/png": "[encoded data removed]",
            "text/plain": [
              "<PIL.Image.Image image mode=L size=46x92 at 0x7F6037D2FF50>"
            ]
          },
          "metadata": {}
        },
        {
          "output_type": "display_data",
          "data": {
            "image/png": "[encoded data removed]",
            "text/plain": [
              "<PIL.Image.Image image mode=L size=46x92 at 0x7F6037D2FF50>"
            ]
          },
          "metadata": {}
        },
        {
          "output_type": "display_data",
          "data": {
            "image/png": "[encoded data removed]",
            "text/plain": [
              "<PIL.Image.Image image mode=L size=46x92 at 0x7F6037D2FF50>"
            ]
          },
          "metadata": {}
        },
        {
          "output_type": "display_data",
          "data": {
            "image/png": "[encoded data removed]",
            "text/plain": [
              "<PIL.Image.Image image mode=L size=46x92 at 0x7F6037D2FF50>"
            ]
          },
          "metadata": {}
        },
        {
          "output_type": "display_data",
          "data": {
            "image/png": "[encoded data removed]",
            "text/plain": [
              "<PIL.Image.Image image mode=L size=46x92 at 0x7F6037D2FF50>"
            ]
          },
          "metadata": {}
        },
        {
          "output_type": "display_data",
          "data": {
            "image/png": "[encoded data removed]",
            "text/plain": [
              "<PIL.Image.Image image mode=L size=46x92 at 0x7F6037D2FF50>"
            ]
          },
          "metadata": {}
        },
        {
          "output_type": "display_data",
          "data": {
            "image/png": "[encoded data removed]",
            "text/plain": [
              "<PIL.Image.Image image mode=L size=46x92 at 0x7F6037D2FF50>"
            ]
          },
          "metadata": {}
        },
        {
          "output_type": "display_data",
          "data": {
            "image/png": "[encoded data removed]",
            "text/plain": [
              "<PIL.Image.Image image mode=L size=46x92 at 0x7F6037D2FF50>"
            ]
          },
          "metadata": {}
        },
        {
          "output_type": "display_data",
          "data": {
            "image/png": "[encoded data removed]",
            "text/plain": [
              "<PIL.Image.Image image mode=L size=46x92 at 0x7F6037D2FF50>"
            ]
          },
          "metadata": {}
        },
        {
          "output_type": "display_data",
          "data": {
            "image/png": "[encoded data removed]",
            "text/plain": [
              "<PIL.Image.Image image mode=L size=46x92 at 0x7F6037D2FF50>"
            ]
          },
          "metadata": {}
        },
        {
          "output_type": "display_data",
          "data": {
            "image/png": "[encoded data removed]",
            "text/plain": [
              "<PIL.Image.Image image mode=L size=46x92 at 0x7F6037D2FF50>"
            ]
          },
          "metadata": {}
        },
        {
          "output_type": "display_data",
          "data": {
            "image/png": "[encoded data removed]",
            "text/plain": [
              "<PIL.Image.Image image mode=L size=46x92 at 0x7F6037D2FF50>"
            ]
          },
          "metadata": {}
        },
        {
          "output_type": "display_data",
          "data": {
            "image/png": "[encoded data removed]",
            "text/plain": [
              "<PIL.Image.Image image mode=L size=46x92 at 0x7F6037D2FF50>"
            ]
          },
          "metadata": {}
        },
        {
          "output_type": "display_data",
          "data": {
            "image/png": "[encoded data removed]",
            "text/plain": [
              "<PIL.Image.Image image mode=L size=46x92 at 0x7F6037D2FF50>"
            ]
          },
          "metadata": {}
        },
        {
          "output_type": "display_data",
          "data": {
            "image/png": "[encoded data removed]",
            "text/plain": [
              "<PIL.Image.Image image mode=L size=46x92 at 0x7F6037D2FF50>"
            ]
          },
          "metadata": {}
        }
      ]
    },
    {
      "cell_type": "code",
      "metadata": {
        "colab": {
          "base_uri": "https://localhost:8080/"
        },
        "id": "Ebu_4DYz17nz",
        "outputId": "5c78d5d1-4ae4-4fe9-ff61-d820ebde10a1"
      },
      "source": [
        "!gdown --id 1xDiRz0AkEOACKIwCI9U0F-7G4KbxeO08"
      ],
      "execution_count": null,
      "outputs": [
        {
          "output_type": "stream",
          "name": "stdout",
          "text": [
            "Downloading...\n",
            "From: https://drive.google.com/uc?id=1xDiRz0AkEOACKIwCI9U0F-7G4KbxeO08\n",
            "To: /content/46x92_OrigOnly_2.pt\n",
            "\r  0% 0.00/1.29M [00:00<?, ?B/s]\r100% 1.29M/1.29M [00:00<00:00, 71.5MB/s]\n"
          ]
        }
      ]
    },
    {
      "cell_type": "code",
      "metadata": {
        "id": "pAzyHxFJ2P_-",
        "colab": {
          "base_uri": "https://localhost:8080/"
        },
        "outputId": "e8b749c4-c63d-4e6b-a72b-d556fe9c7e86"
      },
      "source": [
        "# Importing the standard ML libraries...\n",
        "%load_ext autoreload\n",
        "%autoreload 2\n",
        "import torch\n",
        "import torchvision                      \n",
        "\n",
        "# take advantage of GPU if available\n",
        "device = torch.device('cuda') if torch.cuda.is_available() else torch.device('cpu')"
      ],
      "execution_count": null,
      "outputs": [
        {
          "output_type": "stream",
          "name": "stdout",
          "text": [
            "The autoreload extension is already loaded. To reload it, use:\n",
            "  %reload_ext autoreload\n"
          ]
        }
      ]
    },
    {
      "cell_type": "markdown",
      "metadata": {
        "id": "uNwbjFmWai5W"
      },
      "source": [
        "**Defining the model and dataset for the CNN**"
      ]
    },
    {
      "cell_type": "code",
      "metadata": {
        "id": "2wXPbRva23o4"
      },
      "source": [
        "import torch.nn as nn\n",
        "import torch.nn.functional as F\n",
        "class ConvolutionalNeuralNet(nn.Module):\n",
        "    def __init__(self):\n",
        "      super(ConvolutionalNeuralNet, self).__init__()\n",
        "      self.conv1 = nn.Conv2d(1, 6, 5) #1 for B and W\n",
        "      self.pool = nn.MaxPool2d(2, 2)\n",
        "      self.conv2 = nn.Conv2d(6, 16, 5)\n",
        "      self.fc1 = nn.Linear(2560, 120)\n",
        "      self.fc2 = nn.Linear(120, 84)\n",
        "      self.fc3 = nn.Linear(84, 13) #13 classes\n",
        "\n",
        "    def forward(self, x):\n",
        "      x = self.pool(F.relu(self.conv1(x)))\n",
        "      x = self.pool(F.relu(self.conv2(x)))\n",
        "      x = x.view(x.size(0), -1)#x = x.view(-1, 16*5*5)\n",
        "      x = F.relu(self.fc1(x))\n",
        "      x = F.relu(self.fc2(x))\n",
        "      x = self.fc3(x)\n",
        "      return x"
      ],
      "execution_count": null,
      "outputs": []
    },
    {
      "cell_type": "code",
      "metadata": {
        "id": "jbbhO9fE2l2M",
        "colab": {
          "base_uri": "https://localhost:8080/"
        },
        "outputId": "759028e8-d3f8-4b28-c032-4fc1624f0828"
      },
      "source": [
        "model = torch.load(\"46x92_OrigOnly_2.pt\")\n",
        "model.eval()"
      ],
      "execution_count": null,
      "outputs": [
        {
          "output_type": "execute_result",
          "data": {
            "text/plain": [
              "ConvolutionalNeuralNet(\n",
              "  (conv1): Conv2d(1, 6, kernel_size=(5, 5), stride=(1, 1))\n",
              "  (pool): MaxPool2d(kernel_size=2, stride=2, padding=0, dilation=1, ceil_mode=False)\n",
              "  (conv2): Conv2d(6, 16, kernel_size=(5, 5), stride=(1, 1))\n",
              "  (fc1): Linear(in_features=2560, out_features=120, bias=True)\n",
              "  (fc2): Linear(in_features=120, out_features=84, bias=True)\n",
              "  (fc3): Linear(in_features=84, out_features=13, bias=True)\n",
              ")"
            ]
          },
          "metadata": {},
          "execution_count": 15
        }
      ]
    },
    {
      "cell_type": "code",
      "metadata": {
        "id": "8Iuz5U5-FmHy"
      },
      "source": [
        "class ImageDataset(torch.utils.data.Dataset):\n",
        "    def __init__(self, data):\n",
        "        self.image_data = []\n",
        "        self.image_shape = (1, 92, 46)\n",
        "        self.length = len(data)\n",
        "        for i in range(len(data)):\n",
        "            self.image_data.append(data[i])\n",
        "\n",
        "        self.image_data = np.expand_dims(np.asarray(self.image_data), 1)\n",
        "        self.images = torch.tensor(self.image_data, dtype=torch.float32)\n",
        "\n",
        "    def __len__(self):\n",
        "        return self.length\n",
        "    \n",
        "    def __getitem__(self, idx):\n",
        "        return self.image_data[idx]"
      ],
      "execution_count": null,
      "outputs": []
    },
    {
      "cell_type": "code",
      "metadata": {
        "id": "HA0VGz1bG5yD"
      },
      "source": [
        "fen_map = {0: \"P\", 1: \"B\", 2: \"N\", 3: \"R\", 4: \"Q\", 5: \"K\", 6: \"p\", 7: \"b\", 8: \"n\", 9: \"r\", 10: \"q\", 11: \"k\", 12: \"E\"}"
      ],
      "execution_count": null,
      "outputs": []
    },
    {
      "cell_type": "markdown",
      "metadata": {
        "id": "HQ5CbpQ5ayQC"
      },
      "source": [
        "**Converts the 64 images of the individual squares into a FEN. Also takes in whether it is white or black to play.**"
      ]
    },
    {
      "cell_type": "code",
      "metadata": {
        "id": "-DwUrgpP4pdB"
      },
      "source": [
        "def get_fen(board_images_arr, player_to_play='w'):\n",
        "\n",
        "  test_dataset = ImageDataset(board_images_arr)\n",
        "  testloader = torch.utils.data.DataLoader(test_dataset, batch_size=64, shuffle=False)\n",
        "\n",
        "  dataiter = iter(testloader)\n",
        "  images = dataiter.next()\n",
        "  images = images.cuda().float()\n",
        "  outputs = model(images)\n",
        "  _, predicted = torch.max(outputs, 1)\n",
        "\n",
        "  board_piece_arr = predicted.cpu().numpy()\n",
        "\n",
        "  fen_arr = []\n",
        "  for i in range(8):\n",
        "    temp = []\n",
        "    for j in range(8):\n",
        "      temp.append(fen_map[board_piece_arr[i + 8 * j]])\n",
        "    fen_arr.append(temp)\n",
        "\n",
        "  fen_arr.reverse()\n",
        "  fen_arr = np.array(fen_arr)\n",
        "\n",
        "  fen = \"\"\n",
        "\n",
        "  for i in range(8):\n",
        "    count = 0\n",
        "    for j in range(8):\n",
        "      if fen_arr[i, j] != \"E\":\n",
        "        if count > 0:\n",
        "          fen += str(count)\n",
        "          count = 0\n",
        "        fen += fen_arr[i, j]\n",
        "      else:\n",
        "        count += 1\n",
        "    if count > 0:\n",
        "      fen += str(count)\n",
        "    fen += \"/\"\n",
        "\n",
        "  fen = fen[:-1] + \" \" + player_to_play + \" KQkq - 0 0\"\n",
        "  return fen"
      ],
      "execution_count": null,
      "outputs": []
    },
    {
      "cell_type": "markdown",
      "metadata": {
        "id": "wgb1VpzQbKuW"
      },
      "source": [
        "**After cropping and labeling through the CNN, 43% of boards were exactly correct. Those that aren't are usually off by only a single square.**"
      ]
    },
    {
      "cell_type": "code",
      "metadata": {
        "colab": {
          "base_uri": "https://localhost:8080/"
        },
        "id": "6oWygdFcAggM",
        "outputId": "2461c9a4-ced2-4ef8-baae-41cf1a3826c9"
      },
      "source": [
        "count = 0\n",
        "\n",
        "FOLDER = \"/content/test_renders/\"\n",
        "\n",
        "for f in os.listdir(FOLDER):\n",
        "  fen = get_fen(crop_single_img(FOLDER + f))\n",
        "  fen = fen[:fen.find(\" \")]\n",
        "  fen = fen.replace(\"/\", \"-\")\n",
        "  if str(f)[:str(f).find(\" \")] == fen:\n",
        "    count += 1\n",
        "print(str(count) + \"%\")"
      ],
      "execution_count": null,
      "outputs": [
        {
          "output_type": "stream",
          "name": "stdout",
          "text": [
            "43%\n"
          ]
        }
      ]
    },
    {
      "cell_type": "code",
      "metadata": {
        "id": "IDZNgqAiJSCi",
        "colab": {
          "base_uri": "https://localhost:8080/"
        },
        "outputId": "7d163dae-6b95-4286-daf9-b74b6ade94fc"
      },
      "source": [
        "!gdown --id 1pOymIvvx3TUqXNWDFNWcO0UpkEKHNL6X"
      ],
      "execution_count": null,
      "outputs": [
        {
          "output_type": "stream",
          "name": "stdout",
          "text": [
            "Downloading...\n",
            "From: https://drive.google.com/uc?id=1pOymIvvx3TUqXNWDFNWcO0UpkEKHNL6X\n",
            "To: /content/stockfish_engine.zip\n",
            "100% 28.8M/28.8M [00:00<00:00, 91.7MB/s]\n"
          ]
        }
      ]
    },
    {
      "cell_type": "code",
      "metadata": {
        "id": "d8XhtR8XGMMg"
      },
      "source": [
        "!unzip -q stockfish_engine.zip"
      ],
      "execution_count": null,
      "outputs": []
    },
    {
      "cell_type": "code",
      "metadata": {
        "id": "X34uovhUGO3k",
        "colab": {
          "base_uri": "https://localhost:8080/"
        },
        "outputId": "db7eda3c-e454-4c27-9ee1-f49d2331b8d9"
      },
      "source": [
        "!pip install chess"
      ],
      "execution_count": null,
      "outputs": [
        {
          "output_type": "stream",
          "name": "stdout",
          "text": [
            "Collecting chess\n",
            "  Downloading chess-1.7.0-py3-none-any.whl (147 kB)\n",
            "\u001b[?25l\r\u001b[K     |██▎                             | 10 kB 24.4 MB/s eta 0:00:01\r\u001b[K     |████▌                           | 20 kB 21.8 MB/s eta 0:00:01\r\u001b[K     |██████▊                         | 30 kB 11.3 MB/s eta 0:00:01\r\u001b[K     |█████████                       | 40 kB 9.1 MB/s eta 0:00:01\r\u001b[K     |███████████▏                    | 51 kB 5.1 MB/s eta 0:00:01\r\u001b[K     |█████████████▍                  | 61 kB 5.6 MB/s eta 0:00:01\r\u001b[K     |███████████████▋                | 71 kB 6.0 MB/s eta 0:00:01\r\u001b[K     |█████████████████▉              | 81 kB 6.7 MB/s eta 0:00:01\r\u001b[K     |████████████████████            | 92 kB 6.4 MB/s eta 0:00:01\r\u001b[K     |██████████████████████▎         | 102 kB 5.1 MB/s eta 0:00:01\r\u001b[K     |████████████████████████▌       | 112 kB 5.1 MB/s eta 0:00:01\r\u001b[K     |██████████████████████████▊     | 122 kB 5.1 MB/s eta 0:00:01\r\u001b[K     |█████████████████████████████   | 133 kB 5.1 MB/s eta 0:00:01\r\u001b[K     |███████████████████████████████▏| 143 kB 5.1 MB/s eta 0:00:01\r\u001b[K     |████████████████████████████████| 147 kB 5.1 MB/s \n",
            "\u001b[?25hInstalling collected packages: chess\n",
            "Successfully installed chess-1.7.0\n"
          ]
        }
      ]
    },
    {
      "cell_type": "code",
      "metadata": {
        "id": "9Ek0SYv1N2Yq"
      },
      "source": [
        "!chmod 755 \"/content/stockfish_14.1_linux_x64_bmi2/stockfish_14.1_linux_x64_bmi2\""
      ],
      "execution_count": null,
      "outputs": []
    },
    {
      "cell_type": "code",
      "metadata": {
        "id": "yGDG2afZ9QvQ"
      },
      "source": [
        "import re\n",
        "import chess\n",
        "import chess.engine\n",
        "import chess.svg\n",
        "engine = chess.engine.SimpleEngine.popen_uci(\"/content/stockfish_14.1_linux_x64_bmi2/stockfish_14.1_linux_x64_bmi2\")\n",
        "board = chess.Board()"
      ],
      "execution_count": null,
      "outputs": []
    },
    {
      "cell_type": "markdown",
      "metadata": {
        "id": "AX0kv15gbsru"
      },
      "source": [
        "**Analyses the given FEN boardstate. Gives 3 different move recommendations and the line continuations after them.**"
      ]
    },
    {
      "cell_type": "code",
      "metadata": {
        "id": "ggO1ZLTQHJKc",
        "colab": {
          "base_uri": "https://localhost:8080/"
        },
        "outputId": "7100201c-f904-4465-cf47-4ff62d49f1d4"
      },
      "source": [
        "fen = get_fen(crop_single_img(INPUT_FILE))\n",
        "print(fen)\n",
        "if fen != \"bad\":\n",
        "  board = chess.Board(fen)\n",
        "  print(board)\n",
        "  try:\n",
        "    info = engine.analyse(board, chess.engine.Limit(depth=20), multipv=3)\n",
        "    print(info[0][\"pv\"])\n",
        "    print(info[1][\"pv\"])\n",
        "    print(info[2][\"pv\"])\n",
        "  except:\n",
        "    print(\"The Engine Failed. Please restart the engine (run the cell above this one) and try again. Another problem might be that the FEN is not a valid position, in which case please input a new FEN.\")"
      ],
      "execution_count": null,
      "outputs": [
        {
          "output_type": "stream",
          "name": "stdout",
          "text": [
            "2b5/p4p1k/3q1Pp1/2p5/3p1p1P/1R3P2/PQ4P1/6K1 w KQkq - 0 0\n",
            ". . b . . . . .\n",
            "p . . . . p . k\n",
            ". . . q . P p .\n",
            ". . p . . . . .\n",
            ". . . p . p . P\n",
            ". R . . . P . .\n",
            "P Q . . . . P .\n",
            ". . . . . . K .\n",
            "[Move.from_uci('b2a3'), Move.from_uci('c8e6'), Move.from_uci('b3b1'), Move.from_uci('d4d3'), Move.from_uci('g1h2'), Move.from_uci('a7a6'), Move.from_uci('b1d1'), Move.from_uci('e6f5'), Move.from_uci('a3c3'), Move.from_uci('g6g5'), Move.from_uci('c3c4'), Move.from_uci('h7g6'), Move.from_uci('h4g5'), Move.from_uci('a6a5'), Move.from_uci('c4c3'), Move.from_uci('g6g5'), Move.from_uci('c3a5'), Move.from_uci('c5c4'), Move.from_uci('a5c3'), Move.from_uci('f5e6'), Move.from_uci('a2a4'), Move.from_uci('g5f5'), Move.from_uci('d1e1'), Move.from_uci('f5g6')]\n",
            "[Move.from_uci('b3d3'), Move.from_uci('d6f6'), Move.from_uci('d3d1'), Move.from_uci('f6e5'), Move.from_uci('g1h2'), Move.from_uci('c8e6'), Move.from_uci('a2a4'), Move.from_uci('h7g7'), Move.from_uci('b2b5'), Move.from_uci('e5d6'), Move.from_uci('b5b2'), Move.from_uci('d6d8'), Move.from_uci('h2g1'), Move.from_uci('d8h4'), Move.from_uci('b2b8'), Move.from_uci('h4f6'), Move.from_uci('b8a7'), Move.from_uci('e6b3'), Move.from_uci('d1b1'), Move.from_uci('c5c4')]\n",
            "[Move.from_uci('b2d2'), Move.from_uci('c8e6'), Move.from_uci('b3d3'), Move.from_uci('e6f5'), Move.from_uci('d3c3'), Move.from_uci('d4d3'), Move.from_uci('c3c1'), Move.from_uci('f5e6'), Move.from_uci('g1f1'), Move.from_uci('c5c4'), Move.from_uci('d2c3'), Move.from_uci('d6d5'), Move.from_uci('c1b1'), Move.from_uci('e6f5'), Move.from_uci('f1g1'), Move.from_uci('g6g5'), Move.from_uci('h4g5'), Move.from_uci('h7g6'), Move.from_uci('b1e1'), Move.from_uci('d5c5'), Move.from_uci('g1h2')]\n"
          ]
        }
      ]
    },
    {
      "cell_type": "code",
      "metadata": {
        "id": "NAU3jqt9frAc",
        "colab": {
          "base_uri": "https://localhost:8080/"
        },
        "outputId": "4648e8b2-d926-460e-c2af-5317b679900d"
      },
      "source": [
        "!pip install cairosvg\n",
        "!pip install Image"
      ],
      "execution_count": null,
      "outputs": [
        {
          "output_type": "stream",
          "name": "stdout",
          "text": [
            "Collecting cairosvg\n",
            "  Downloading CairoSVG-2.5.2-py3-none-any.whl (45 kB)\n",
            "\u001b[?25l\r\u001b[K     |███████▏                        | 10 kB 28.4 MB/s eta 0:00:01\r\u001b[K     |██████████████▎                 | 20 kB 30.6 MB/s eta 0:00:01\r\u001b[K     |█████████████████████▌          | 30 kB 12.7 MB/s eta 0:00:01\r\u001b[K     |████████████████████████████▋   | 40 kB 9.8 MB/s eta 0:00:01\r\u001b[K     |████████████████████████████████| 45 kB 1.6 MB/s \n",
            "\u001b[?25hCollecting tinycss2\n",
            "  Downloading tinycss2-1.1.1-py3-none-any.whl (21 kB)\n",
            "Collecting cairocffi\n",
            "  Downloading cairocffi-1.3.0.tar.gz (88 kB)\n",
            "\u001b[K     |████████████████████████████████| 88 kB 4.0 MB/s \n",
            "\u001b[?25hRequirement already satisfied: pillow in /usr/local/lib/python3.7/dist-packages (from cairosvg) (7.1.2)\n",
            "Requirement already satisfied: defusedxml in /usr/local/lib/python3.7/dist-packages (from cairosvg) (0.7.1)\n",
            "Collecting cssselect2\n",
            "  Downloading cssselect2-0.4.1-py3-none-any.whl (13 kB)\n",
            "Requirement already satisfied: cffi>=1.1.0 in /usr/local/lib/python3.7/dist-packages (from cairocffi->cairosvg) (1.15.0)\n",
            "Requirement already satisfied: pycparser in /usr/local/lib/python3.7/dist-packages (from cffi>=1.1.0->cairocffi->cairosvg) (2.21)\n",
            "Requirement already satisfied: webencodings in /usr/local/lib/python3.7/dist-packages (from cssselect2->cairosvg) (0.5.1)\n",
            "Building wheels for collected packages: cairocffi\n",
            "  Building wheel for cairocffi (setup.py) ... \u001b[?25l\u001b[?25hdone\n",
            "  Created wheel for cairocffi: filename=cairocffi-1.3.0-py3-none-any.whl size=89667 sha256=4d582dd134950f6eba68f97a9fe18ddbd2c27ad318e9459d0be6bce148fc763a\n",
            "  Stored in directory: /root/.cache/pip/wheels/4e/ca/e1/5c8a9692a27f639a07c949044bec943f26c81cd53d3805319f\n",
            "Successfully built cairocffi\n",
            "Installing collected packages: tinycss2, cssselect2, cairocffi, cairosvg\n",
            "Successfully installed cairocffi-1.3.0 cairosvg-2.5.2 cssselect2-0.4.1 tinycss2-1.1.1\n",
            "Collecting Image\n",
            "  Downloading image-1.5.33.tar.gz (15 kB)\n",
            "Requirement already satisfied: pillow in /usr/local/lib/python3.7/dist-packages (from Image) (7.1.2)\n",
            "Collecting django\n",
            "  Downloading Django-3.2.9-py3-none-any.whl (7.9 MB)\n",
            "\u001b[K     |████████████████████████████████| 7.9 MB 5.7 MB/s \n",
            "\u001b[?25hRequirement already satisfied: six in /usr/local/lib/python3.7/dist-packages (from Image) (1.15.0)\n",
            "Requirement already satisfied: sqlparse>=0.2.2 in /usr/local/lib/python3.7/dist-packages (from django->Image) (0.4.2)\n",
            "Requirement already satisfied: pytz in /usr/local/lib/python3.7/dist-packages (from django->Image) (2018.9)\n",
            "Collecting asgiref<4,>=3.3.2\n",
            "  Downloading asgiref-3.4.1-py3-none-any.whl (25 kB)\n",
            "Requirement already satisfied: typing-extensions in /usr/local/lib/python3.7/dist-packages (from asgiref<4,>=3.3.2->django->Image) (3.10.0.2)\n",
            "Building wheels for collected packages: Image\n",
            "  Building wheel for Image (setup.py) ... \u001b[?25l\u001b[?25hdone\n",
            "  Created wheel for Image: filename=image-1.5.33-py2.py3-none-any.whl size=19494 sha256=1f9c7cda448969ecbf58435e2e8cdfcedd4d85158762d9d380ae05cda52c78ca\n",
            "  Stored in directory: /root/.cache/pip/wheels/56/88/e6/897194cfe8c08a8b9afd881d3bf53d102e13fa39607d721383\n",
            "Successfully built Image\n",
            "Installing collected packages: asgiref, django, Image\n",
            "Successfully installed Image-1.5.33 asgiref-3.4.1 django-3.2.9\n"
          ]
        }
      ]
    },
    {
      "cell_type": "markdown",
      "metadata": {
        "id": "OkGigaEUcIkc"
      },
      "source": [
        "**Prints the top 3 engine recommended moves and displays an image of the board with the top move highlighted as an arrow.**"
      ]
    },
    {
      "cell_type": "code",
      "metadata": {
        "id": "_-cUVCumTEGM",
        "colab": {
          "base_uri": "https://localhost:8080/",
          "height": 419
        },
        "outputId": "673ab4e8-4f11-4a77-b3f4-0561f1156aa0"
      },
      "source": [
        "from cairosvg import svg2png\n",
        "from PIL import Image\n",
        "from io import BytesIO\n",
        "\n",
        "print(info[0][\"pv\"][0])\n",
        "print(info[1][\"pv\"][0])\n",
        "print(info[2][\"pv\"][0])\n",
        "boardsvg = chess.svg.board(board, size=350, arrows=[(info[0][\"pv\"][0].from_square, info[0][\"pv\"][0].to_square)])\n",
        "png = svg2png(boardsvg)\n",
        "pil_img = Image.open(BytesIO(png)).convert('RGBA')\n",
        "cv_img = cv2.cvtColor(np.array(pil_img), cv2.COLOR_RGBA2BGRA)\n",
        "cv2_imshow(cv_img)"
      ],
      "execution_count": null,
      "outputs": [
        {
          "output_type": "stream",
          "name": "stdout",
          "text": [
            "b2a3\n",
            "b3d3\n",
            "b2d2\n"
          ]
        },
        {
          "output_type": "display_data",
          "data": {
            "image/png": "[encoded data removed]",
            "text/plain": [
              "<PIL.Image.Image image mode=RGBA size=350x350 at 0x7F5F33FA7F50>"
            ]
          },
          "metadata": {}
        }
      ]
    },
    {
      "cell_type": "markdown",
      "metadata": {
        "id": "cLfuxepCfaj-"
      },
      "source": [
        "**That's it! You're input image has successfully been converted to a digital version for engine analysis.**"
      ]
    }
  ]
}