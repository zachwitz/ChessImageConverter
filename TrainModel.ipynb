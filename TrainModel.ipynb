{
  "nbformat": 4,
  "nbformat_minor": 0,
  "metadata": {
    "colab": {
      "name": "TrainModel.ipynb",
      "provenance": []
    },
    "kernelspec": {
      "name": "python3",
      "display_name": "Python 3"
    },
    "language_info": {
      "name": "python"
    },
    "accelerator": "GPU"
  },
  "cells": [
    {
      "cell_type": "code",
      "metadata": {
        "id": "MgNNRvKLEde8"
      },
      "source": [
        "# Importing the standard ML libraries...\n",
        "%load_ext autoreload\n",
        "%autoreload 2\n",
        "\n",
        "import pandas as pd                     # to process our data\n",
        "import matplotlib.pyplot as plt         # graphing\n",
        "import numpy as np                      # matrices\n",
        "\n",
        "import torch\n",
        "import torchvision                      # for MNIST dataset/working with images\n",
        "import os\n",
        "from PIL import Image\n",
        "import cv2\n",
        "from google.colab.patches import cv2_imshow\n",
        "\n",
        "# take advantage of GPU if available\n",
        "device = torch.device('cuda') if torch.cuda.is_available() else torch.device('cpu')"
      ],
      "execution_count": null,
      "outputs": []
    },
    {
      "cell_type": "code",
      "metadata": {
        "colab": {
          "base_uri": "https://localhost:8080/"
        },
        "id": "Vm82ZtRZ5M-d",
        "outputId": "03043542-0b77-4602-c505-564858d6a7a0"
      },
      "source": [
        "!gdown --id 1SYoD7dCZT80GtXgNc6A6JohaLyIP1gpv"
      ],
      "execution_count": null,
      "outputs": [
        {
          "output_type": "stream",
          "name": "stdout",
          "text": [
            "Downloading...\n",
            "From: https://drive.google.com/uc?id=1SYoD7dCZT80GtXgNc6A6JohaLyIP1gpv\n",
            "To: /content/training-renders-cropped.zip\n",
            "100% 277M/277M [00:01<00:00, 176MB/s]\n"
          ]
        }
      ]
    },
    {
      "cell_type": "code",
      "metadata": {
        "id": "8ikUud6f6aBc"
      },
      "source": [
        "!unzip -q training-renders-cropped.zip"
      ],
      "execution_count": null,
      "outputs": []
    },
    {
      "cell_type": "code",
      "metadata": {
        "id": "cgsGkGQL77mU"
      },
      "source": [
        "FOLDER = \"content/training_renders_cropped/\""
      ],
      "execution_count": null,
      "outputs": []
    },
    {
      "cell_type": "code",
      "metadata": {
        "colab": {
          "base_uri": "https://localhost:8080/"
        },
        "id": "tt4U7yIA8AIs",
        "outputId": "f19bc7fa-7035-4641-d217-5d5bf847c704"
      },
      "source": [
        "piece_map = {\"wp\": 0, \"wb\": 1, \"wn\": 2, \"wr\": 3, \"wq\": 4, \"wk\": 5, \"bp\": 6, \"bb\": 7, \"bn\": 8, \"br\": 9, \"bq\": 10, \"bk\": 11, \"blank\": 12}\n",
        "data = []\n",
        "\n",
        "for f in os.listdir(FOLDER):\n",
        "  if str(f) != \"all\":\n",
        "    for file in os.listdir(FOLDER + f):\n",
        "      img = cv2.imread(FOLDER + f + \"/\" + file, cv2.IMREAD_GRAYSCALE)\n",
        "      data.append((piece_map[f], img))\n",
        "\n",
        "data = np.array(data)\n",
        "print(len(data))"
      ],
      "execution_count": null,
      "outputs": [
        {
          "output_type": "stream",
          "name": "stdout",
          "text": [
            "61120\n"
          ]
        },
        {
          "output_type": "stream",
          "name": "stderr",
          "text": [
            "/usr/local/lib/python3.7/dist-packages/ipykernel_launcher.py:10: VisibleDeprecationWarning: Creating an ndarray from ragged nested sequences (which is a list-or-tuple of lists-or-tuples-or ndarrays with different lengths or shapes) is deprecated. If you meant to do this, you must specify 'dtype=object' when creating the ndarray\n",
            "  # Remove the CWD from sys.path while we load stuff.\n"
          ]
        }
      ]
    },
    {
      "cell_type": "code",
      "metadata": {
        "colab": {
          "base_uri": "https://localhost:8080/"
        },
        "id": "yzwyM9Ie-sA4",
        "outputId": "fb0d9090-d89c-4235-b8b2-881b08562f9f"
      },
      "source": [
        "from sklearn.model_selection import train_test_split\n",
        "\n",
        "train, test = train_test_split(data, test_size=0.2)\n",
        "print(len(train), len(test))"
      ],
      "execution_count": null,
      "outputs": [
        {
          "output_type": "stream",
          "name": "stdout",
          "text": [
            "48896 12224\n"
          ]
        }
      ]
    },
    {
      "cell_type": "code",
      "metadata": {
        "id": "F9_3KWRKDx2g"
      },
      "source": [
        "class ImageDataset(torch.utils.data.Dataset):\n",
        "    def __init__(self, data):\n",
        "        # initialize your data from file and store it in memory\n",
        "        self.image_data = []\n",
        "        self.label_data = []\n",
        "        self.image_shape = (1, 92, 46)\n",
        "        self.length = len(data)\n",
        "        for i in range(len(data)):\n",
        "            self.label_data.append(data[i][0])\n",
        "            self.image_data.append(data[i][1])\n",
        "\n",
        "        self.image_data = np.expand_dims(np.asarray(self.image_data), 1)\n",
        "        self.images = torch.tensor(self.image_data, dtype=torch.float32)\n",
        "        self.labels = torch.tensor(self.label_data, dtype=torch.float32)\n",
        "\n",
        "    def __len__(self):\n",
        "        return self.length # this should return the number of elements in your dataset\n",
        "    \n",
        "    def __getitem__(self, idx):\n",
        "        return self.image_data[idx], self.label_data[idx]\n",
        "        #return image, label # this should return a tuple of (image, label)\n",
        "                              # where `image` is the image as a tensor\n",
        "                              # and `label` is the ground truth label as a float"
      ],
      "execution_count": null,
      "outputs": []
    },
    {
      "cell_type": "code",
      "metadata": {
        "colab": {
          "base_uri": "https://localhost:8080/",
          "height": 126
        },
        "id": "yL-tr4witLiY",
        "outputId": "3157758a-cf04-4bdb-b954-8b295d6c05c3"
      },
      "source": [
        "train_dataset = ImageDataset(train)\n",
        "test_dataset = ImageDataset(test)\n",
        "batch_size = 128\n",
        "trainloader = torch.utils.data.DataLoader(train_dataset, batch_size=batch_size, shuffle=True)\n",
        "testloader = torch.utils.data.DataLoader(test_dataset, batch_size=batch_size, shuffle=False)\n",
        "print(trainloader.dataset.images.shape)\n",
        "cv2_imshow(data[0][1])"
      ],
      "execution_count": null,
      "outputs": [
        {
          "output_type": "stream",
          "name": "stdout",
          "text": [
            "torch.Size([48896, 1, 92, 46])\n"
          ]
        },
        {
          "output_type": "display_data",
          "data": {
            "image/png": "[encoded data removed]",
            "text/plain": [
              "<PIL.Image.Image image mode=L size=46x92 at 0x7F7BCC603410>"
            ]
          },
          "metadata": {}
        }
      ]
    },
    {
      "cell_type": "code",
      "metadata": {
        "id": "qS6-AY5ZrMdw"
      },
      "source": [
        "import torch.nn as nn\n",
        "import torch.nn.functional as F"
      ],
      "execution_count": null,
      "outputs": []
    },
    {
      "cell_type": "code",
      "metadata": {
        "id": "eQa85CF9VXs1"
      },
      "source": [
        "class ConvolutionalNeuralNet(nn.Module):\n",
        "    def __init__(self):\n",
        "      super(ConvolutionalNeuralNet, self).__init__()\n",
        "      self.conv1 = nn.Conv2d(1, 6, 5) #1 for B and W\n",
        "      self.pool = nn.MaxPool2d(2, 2)\n",
        "      self.conv2 = nn.Conv2d(6, 16, 5)\n",
        "      self.fc1 = nn.Linear(2560, 120)\n",
        "      self.fc2 = nn.Linear(120, 84)\n",
        "      self.fc3 = nn.Linear(84, 13) #13 classes\n",
        "\n",
        "    def forward(self, x):\n",
        "      x = self.pool(F.relu(self.conv1(x)))\n",
        "      x = self.pool(F.relu(self.conv2(x)))\n",
        "      x = x.view(x.size(0), -1)#x = x.view(-1, 16*5*5)\n",
        "      x = F.relu(self.fc1(x))\n",
        "      x = F.relu(self.fc2(x))\n",
        "      x = self.fc3(x)\n",
        "      return x"
      ],
      "execution_count": null,
      "outputs": []
    },
    {
      "cell_type": "code",
      "metadata": {
        "colab": {
          "base_uri": "https://localhost:8080/"
        },
        "id": "odA_V5tVoTJK",
        "outputId": "bf19b81e-c610-4add-d690-14a4ca00288d"
      },
      "source": [
        "cnn_model = ConvolutionalNeuralNet().to(device=device, dtype=torch.float) # Don't forget to add .to(device=device)\n",
        "criterion = torch.nn.CrossEntropyLoss()\n",
        "optimizer = torch.optim.AdamW(cnn_model.parameters(), lr = 0.0005, weight_decay=0.1)\n",
        "\n",
        "val_losses = []\n",
        "train_losses = []\n",
        "\n",
        "for epoch in range(100):\n",
        "    epoch_loss = 0\n",
        "    cnn_model.train()\n",
        "    for batch_idx, (images, labels) in enumerate(trainloader):\n",
        "        images = images.cuda()\n",
        "        labels = labels.cuda() # Put the labels on GPU as well\n",
        "        images = images.float()\n",
        "\n",
        "        optimizer.zero_grad()                 # resets the information from last time\n",
        "        pred_y = cnn_model(images)            # calculates the predictions\n",
        "        loss = criterion(pred_y, labels)      # calculates the loss\n",
        "        loss.backward()                       # gradient descent, part 1\n",
        "        optimizer.step()                      # gradient descent, part 2\n",
        "        epoch_loss += loss.item()\n",
        "    epoch_loss /= len(train_dataset)\n",
        "    train_losses.append(epoch_loss)\n",
        "    \n",
        "    cnn_model.eval()\n",
        "    val_loss = 0\n",
        "    with torch.no_grad():\n",
        "        for batch_idx, (images, labels) in enumerate(testloader):   \n",
        "            images = images.float()    \n",
        "            output = cnn_model(images.cuda())\n",
        "            labels = labels.cuda()\n",
        "            loss = criterion(output, labels)\n",
        "            val_loss += loss.item()\n",
        "        val_loss /= len(test_dataset)\n",
        "        val_losses.append(val_loss)\n",
        "        \n",
        "    print(f\"Epoch {epoch}: {epoch_loss} Val: {val_loss}\")"
      ],
      "execution_count": null,
      "outputs": [
        {
          "output_type": "stream",
          "name": "stdout",
          "text": [
            "Epoch 0: 0.0030378766284148693 Val: 0.0017271159821389858\n",
            "Epoch 1: 0.001500583878085651 Val: 0.0014071397176158677\n",
            "Epoch 2: 0.0011842836312284078 Val: 0.0011574536356562992\n",
            "Epoch 3: 0.0009640846918007915 Val: 0.0010001666329469512\n",
            "Epoch 4: 0.0008457886474222281 Val: 0.000983327637467392\n",
            "Epoch 5: 0.0007495552839142032 Val: 0.0009156781759512908\n",
            "Epoch 6: 0.0006512971461219689 Val: 0.0009262643197395337\n",
            "Epoch 7: 0.000607535698486453 Val: 0.0008163022329050716\n",
            "Epoch 8: 0.0005427265263355156 Val: 0.0008014093497700999\n",
            "Epoch 9: 0.00048292201610906194 Val: 0.0009470004463417173\n"
          ]
        }
      ]
    },
    {
      "cell_type": "code",
      "metadata": {
        "colab": {
          "base_uri": "https://localhost:8080/",
          "height": 367
        },
        "id": "2lj3pZU8M_CA",
        "outputId": "b4b710a4-8e8d-424d-dd07-b7a08127e0f5"
      },
      "source": [
        "plt.figure(figsize=(10,5))\n",
        "plt.title(\"Training and Validation Loss\")\n",
        "plt.plot(val_losses,label=\"val\")\n",
        "plt.plot(train_losses,label=\"train\")\n",
        "plt.xlabel(\"Iterations\")\n",
        "plt.ylabel(\"Loss\")\n",
        "plt.legend()\n",
        "plt.show()\n",
        "plt.savefig(\"train_val_loss\")"
      ],
      "execution_count": null,
      "outputs": [
        {
          "output_type": "display_data",
          "data": {
            "image/png": "[encoded data removed]",
            "text/plain": [
              "<Figure size 720x360 with 1 Axes>"
            ]
          },
          "metadata": {
            "needs_background": "light"
          }
        },
        {
          "output_type": "display_data",
          "data": {
            "text/plain": [
              "<Figure size 432x288 with 0 Axes>"
            ]
          },
          "metadata": {}
        }
      ]
    },
    {
      "cell_type": "code",
      "metadata": {
        "id": "n3DyfOXgoech"
      },
      "source": [
        "stateDict = cnn_model.state_dict()\n",
        "torch.save(stateDict, \"/content/model_weights.pt\")\n",
        "torch.save(cnn_model, \"/content/full_model.pt\")"
      ],
      "execution_count": null,
      "outputs": []
    },
    {
      "cell_type": "code",
      "metadata": {
        "colab": {
          "base_uri": "https://localhost:8080/"
        },
        "id": "BLoKLn2LgHFx",
        "outputId": "912c378f-a9f7-48f5-b5c6-4bbcaa7889a7"
      },
      "source": [
        "!gdown --id 1xDiRz0AkEOACKIwCI9U0F-7G4KbxeO08"
      ],
      "execution_count": null,
      "outputs": [
        {
          "output_type": "stream",
          "name": "stdout",
          "text": [
            "Downloading...\n",
            "From: https://drive.google.com/uc?id=1xDiRz0AkEOACKIwCI9U0F-7G4KbxeO08\n",
            "To: /content/46x92_OrigOnly_2.pt\n",
            "\r  0% 0.00/1.29M [00:00<?, ?B/s]\r100% 1.29M/1.29M [00:00<00:00, 82.3MB/s]\n"
          ]
        }
      ]
    },
    {
      "cell_type": "code",
      "metadata": {
        "id": "IIWLWS_9gDjW"
      },
      "source": [
        "cnn_model = torch.load(\"46x92_OrigOnly_2.pt\")"
      ],
      "execution_count": null,
      "outputs": []
    },
    {
      "cell_type": "code",
      "metadata": {
        "colab": {
          "base_uri": "https://localhost:8080/",
          "height": 506
        },
        "id": "pURIg0AgBGBO",
        "outputId": "73c38563-1ae5-40f1-f620-11f2673903bf"
      },
      "source": [
        "from sklearn.metrics import confusion_matrix, recall_score, accuracy_score, precision_score\n",
        "import seaborn as sns\n",
        "\n",
        "count = 0\n",
        "pred_dict = {0: 0, 1: 0, 2: 0, 3: 0, 4: 0, 5: 0, 6: 0, 7: 0, 8: 0, 9: 0, 10: 0, 11: 0, 12: 0}\n",
        "true_dict = {0: 0, 1: 0, 2: 0, 3: 0, 4: 0, 5: 0, 6: 0, 7: 0, 8: 0, 9: 0, 10: 0, 11: 0, 12: 0}\n",
        "\n",
        "guess_arr = []\n",
        "actual_arr = []\n",
        "\n",
        "dataiter = iter(testloader)\n",
        "images, labels = dataiter.next()\n",
        "\n",
        "\n",
        "images = images.cuda()\n",
        "labels = labels.cuda()\n",
        "images = images.float()\n",
        "outputs = cnn_model(images)\n",
        "_, predicted = torch.max(outputs, 1)\n",
        "\n",
        "for i in range(len(images)):\n",
        "  p = int(predicted[i].cpu().numpy())\n",
        "  l = int(labels[i].cpu().numpy())\n",
        "  if p != 12 and l != 12:\n",
        "    guess_arr.append(p)\n",
        "    actual_arr.append(l)\n",
        "  if p == l:\n",
        "    pred_dict[p] += 1\n",
        "    count += 1\n",
        "  true_dict[l] += 1\n",
        "\n",
        "n = 75\n",
        "\n",
        "for k in range(n):\n",
        "    images, labels = dataiter.next()\n",
        "\n",
        "    images = images.cuda()\n",
        "    labels = labels.cuda()\n",
        "    images = images.float()\n",
        "    outputs = cnn_model(images)\n",
        "    _, predicted = torch.max(outputs, 1)\n",
        "\n",
        "    for i in range(len(images)):\n",
        "      p = int(predicted[i].cpu().numpy())\n",
        "      l = int(labels[i].cpu().numpy())\n",
        "      if p != 12 and l != 12:\n",
        "        guess_arr.append(p)\n",
        "        actual_arr.append(l)\n",
        "      if p == l:\n",
        "        pred_dict[p] += 1\n",
        "        count += 1\n",
        "      true_dict[l] += 1\n",
        "\n",
        "print(\"Number predicted correctly by category: \")\n",
        "print(pred_dict)\n",
        "print(\"Number actually occurring by category: \")\n",
        "print(true_dict)\n",
        "pred_arr = [pred_dict[i] for i in range(13)]\n",
        "true_arr = [true_dict[i] for i in range(13)]\n",
        "arr = [pred_dict[i] / true_dict[i] for i in range(13)]\n",
        "print(\"Ratio correct by category: \")\n",
        "print(arr)\n",
        "\n",
        "true_sum = sum(true_arr)\n",
        "pred_sum = sum(pred_arr)\n",
        "print(\"Overall Percent Correct: \" + str(pred_sum/true_sum * 100) + \"%\")\n",
        "\n",
        "true_sum_no_blank = sum(true_arr[:-1])\n",
        "pred_sum_no_blank = sum(pred_arr[:-1])\n",
        "print(\"Percent Correct Without Including Empty Squares: \" + str(pred_sum_no_blank / true_sum_no_blank * 100) + \"%\")\n",
        "cm = confusion_matrix(actual_arr, guess_arr)\n",
        "ax = sns.heatmap(cm, annot=True, fmt='g')\n",
        "ax.set_title('Confusion Matrix without Blanks');\n",
        "ax.set_xlabel('Predicted Classes')\n",
        "ax.set_ylabel('Actual Classes');\n",
        "\n",
        "print(\"Precision: \", precision_score(actual_arr, guess_arr, average='micro'))\n",
        "print(\"Accuracy: \", accuracy_score(actual_arr, guess_arr))\n",
        "print(\"Recall: \", recall_score(actual_arr, guess_arr, average='micro'))"
      ],
      "execution_count": null,
      "outputs": [
        {
          "output_type": "stream",
          "name": "stdout",
          "text": [
            "Number predicted correctly by category: \n",
            "{0: 729, 1: 102, 2: 112, 3: 206, 4: 96, 5: 132, 6: 789, 7: 56, 8: 110, 9: 214, 10: 75, 11: 102, 12: 6699}\n",
            "Number actually occurring by category: \n",
            "{0: 758, 1: 128, 2: 115, 3: 220, 4: 108, 5: 141, 6: 809, 7: 117, 8: 117, 9: 225, 10: 97, 11: 165, 12: 6728}\n",
            "Ratio correct by category: \n",
            "[0.9617414248021108, 0.796875, 0.9739130434782609, 0.9363636363636364, 0.8888888888888888, 0.9361702127659575, 0.9752781211372065, 0.47863247863247865, 0.9401709401709402, 0.9511111111111111, 0.7731958762886598, 0.6181818181818182, 0.9956896551724138]\n",
            "Overall Percent Correct: 96.85444078947368%\n",
            "Percent Correct Without Including Empty Squares: 90.76666666666667%\n",
            "Precision:  0.9224254742547425\n",
            "Accuracy:  0.9224254742547425\n",
            "Recall:  0.9224254742547425\n"
          ]
        },
        {
          "output_type": "display_data",
          "data": {
            "image/png": "[encoded data removed]",
            "text/plain": [
              "<Figure size 432x288 with 2 Axes>"
            ]
          },
          "metadata": {
            "needs_background": "light"
          }
        }
      ]
    }
  ]
}